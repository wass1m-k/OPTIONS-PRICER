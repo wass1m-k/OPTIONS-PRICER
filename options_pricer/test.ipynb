{
 "cells": [
  {
   "cell_type": "code",
   "execution_count": 1,
   "metadata": {},
   "outputs": [],
   "source": [
    "import yfinance as yf\n",
    "import pandas as pd\n",
    "import numpy as np\n",
    "# import plotly.graph_objects as go\n",
    "# import matplotlib.pyplot as plt"
   ]
  },
  {
   "cell_type": "code",
   "execution_count": 2,
   "metadata": {},
   "outputs": [],
   "source": [
    "data = yf.Ticker('GOOGL')\n",
    "\n",
    "options_date = data.options\n",
    "expiration_date = options_date[13]\n",
    "options_chain = data.option_chain(expiration_date)"
   ]
  },
  {
   "cell_type": "code",
   "execution_count": 3,
   "metadata": {},
   "outputs": [
    {
     "data": {
      "text/plain": [
       "datetime.datetime(2025, 9, 30, 18, 52, 58, 644897)"
      ]
     },
     "execution_count": 3,
     "metadata": {},
     "output_type": "execute_result"
    }
   ],
   "source": [
    "import datetime\n",
    "\n",
    "current_date = datetime.datetime.now()\n",
    "\n",
    "target_date = current_date + datetime.timedelta(1 * 365)\n",
    "\n",
    "target_date"
   ]
  },
  {
   "cell_type": "code",
   "execution_count": 4,
   "metadata": {},
   "outputs": [],
   "source": [
    "expiration_dates = []\n",
    "for date in options_date:\n",
    "    expiration_dates.append(datetime.datetime.strptime(date, '%Y-%m-%d'))"
   ]
  },
  {
   "cell_type": "code",
   "execution_count": 5,
   "metadata": {},
   "outputs": [],
   "source": [
    "closest_date = min(expiration_dates, key=lambda x: abs(x - target_date))"
   ]
  },
  {
   "cell_type": "code",
   "execution_count": 6,
   "metadata": {},
   "outputs": [
    {
     "data": {
      "text/plain": [
       "datetime.datetime(2025, 9, 19, 0, 0)"
      ]
     },
     "execution_count": 6,
     "metadata": {},
     "output_type": "execute_result"
    }
   ],
   "source": [
    "closest_date"
   ]
  },
  {
   "cell_type": "code",
   "execution_count": 8,
   "metadata": {},
   "outputs": [
    {
     "data": {
      "text/plain": [
       "Options(calls=          contractSymbol             lastTradeDate  strike  lastPrice     bid  \\\n",
       "0   GOOGL250919C00025000 2024-06-03 18:52:22+00:00    25.0     148.25  159.50   \n",
       "1   GOOGL250919C00035000 2024-09-12 14:29:12+00:00    35.0     119.95  128.50   \n",
       "2   GOOGL250919C00050000 2024-09-05 14:44:28+00:00    50.0     110.94  114.50   \n",
       "3   GOOGL250919C00060000 2024-06-24 13:33:04+00:00    60.0     123.00  116.05   \n",
       "4   GOOGL250919C00070000 2024-09-06 16:25:54+00:00    70.0      84.90   96.90   \n",
       "5   GOOGL250919C00075000 2024-09-09 16:03:16+00:00    75.0      77.90   92.15   \n",
       "6   GOOGL250919C00080000 2024-09-27 19:28:41+00:00    80.0      87.61   87.45   \n",
       "7   GOOGL250919C00085000 2024-08-23 16:00:50+00:00    85.0      84.00   80.65   \n",
       "8   GOOGL250919C00090000 2024-05-14 18:32:45+00:00    90.0      86.88   88.55   \n",
       "9   GOOGL250919C00095000 2024-09-23 18:57:59+00:00    95.0      72.20   73.65   \n",
       "10  GOOGL250919C00100000 2024-09-25 19:11:12+00:00   100.0      66.63   68.95   \n",
       "11  GOOGL250919C00105000 2024-09-30 17:07:28+00:00   105.0      64.99   63.25   \n",
       "12  GOOGL250919C00110000 2024-09-20 19:42:40+00:00   110.0      58.99   60.25   \n",
       "13  GOOGL250919C00115000 2024-09-25 19:42:46+00:00   115.0      53.05   55.95   \n",
       "14  GOOGL250919C00120000 2024-09-27 17:12:41+00:00   120.0      51.77   51.70   \n",
       "15  GOOGL250919C00125000 2024-09-23 16:16:26+00:00   125.0      46.22   47.65   \n",
       "16  GOOGL250919C00130000 2024-09-30 16:49:02+00:00   130.0      44.05   43.65   \n",
       "17  GOOGL250919C00135000 2024-09-30 16:29:03+00:00   135.0      40.15   39.85   \n",
       "18  GOOGL250919C00140000 2024-09-30 16:25:53+00:00   140.0      36.50   36.30   \n",
       "19  GOOGL250919C00145000 2024-09-27 19:52:58+00:00   145.0      32.50   32.85   \n",
       "20  GOOGL250919C00150000 2024-09-27 15:56:10+00:00   150.0      29.12   29.55   \n",
       "21  GOOGL250919C00155000 2024-09-30 14:47:14+00:00   155.0      26.10   26.50   \n",
       "22  GOOGL250919C00160000 2024-09-30 16:27:59+00:00   160.0      23.90   23.60   \n",
       "23  GOOGL250919C00165000 2024-09-30 13:30:00+00:00   165.0      20.40   21.00   \n",
       "24  GOOGL250919C00170000 2024-09-30 13:56:59+00:00   170.0      18.73   18.60   \n",
       "25  GOOGL250919C00175000 2024-09-30 16:19:04+00:00   175.0      16.65   16.40   \n",
       "26  GOOGL250919C00180000 2024-09-30 15:19:05+00:00   180.0      14.25   14.35   \n",
       "27  GOOGL250919C00185000 2024-09-27 16:58:23+00:00   185.0      12.60   12.60   \n",
       "28  GOOGL250919C00190000 2024-09-27 19:34:35+00:00   190.0      11.24   10.95   \n",
       "29  GOOGL250919C00195000 2024-09-30 14:33:03+00:00   195.0       9.50    9.55   \n",
       "30  GOOGL250919C00200000 2024-09-30 16:17:31+00:00   200.0       8.50    8.30   \n",
       "31  GOOGL250919C00205000 2024-09-27 15:12:29+00:00   205.0       7.29    7.20   \n",
       "32  GOOGL250919C00210000 2024-09-25 19:58:45+00:00   210.0       5.35    6.20   \n",
       "33  GOOGL250919C00215000 2024-09-26 17:52:09+00:00   215.0       4.90    5.35   \n",
       "34  GOOGL250919C00220000 2024-09-30 13:52:12+00:00   220.0       4.68    4.60   \n",
       "35  GOOGL250919C00225000 2024-09-27 15:09:01+00:00   225.0       4.05    3.95   \n",
       "36  GOOGL250919C00230000 2024-09-27 14:53:44+00:00   230.0       3.50    3.20   \n",
       "37  GOOGL250919C00235000 2024-09-26 14:20:10+00:00   235.0       2.74    2.96   \n",
       "38  GOOGL250919C00240000 2024-09-06 19:03:43+00:00   240.0       2.59    2.50   \n",
       "39  GOOGL250919C00245000 2024-09-24 17:57:00+00:00   245.0       1.95    2.20   \n",
       "40  GOOGL250919C00250000 2024-09-18 16:48:03+00:00   250.0       1.68    1.90   \n",
       "41  GOOGL250919C00255000 2024-09-30 15:49:51+00:00   255.0       1.78    1.67   \n",
       "42  GOOGL250919C00260000 2024-09-27 15:39:44+00:00   260.0       1.49    1.47   \n",
       "43  GOOGL250919C00265000 2024-09-18 18:36:00+00:00   265.0       1.12    1.28   \n",
       "44  GOOGL250919C00270000 2024-09-18 13:39:29+00:00   270.0       1.45    1.15   \n",
       "45  GOOGL250919C00275000 2024-09-04 15:29:23+00:00   275.0       0.95    1.02   \n",
       "46  GOOGL250919C00280000 2024-09-27 17:24:37+00:00   280.0       0.96    0.90   \n",
       "47  GOOGL250919C00285000 2024-09-19 18:19:42+00:00   285.0       0.83    0.80   \n",
       "48  GOOGL250919C00300000 2024-09-18 16:54:51+00:00   300.0       0.60    0.49   \n",
       "49  GOOGL250919C00310000 2024-08-14 14:11:18+00:00   310.0       0.55    0.19   \n",
       "50  GOOGL250919C00320000 2024-08-06 19:01:43+00:00   320.0       0.55    0.22   \n",
       "51  GOOGL250919C00330000 2024-09-23 14:25:59+00:00   330.0       0.45    0.25   \n",
       "52  GOOGL250919C00340000 2024-09-24 13:51:30+00:00   340.0       0.46    0.21   \n",
       "\n",
       "       ask    change  percentChange  volume  openInterest  impliedVolatility  \\\n",
       "0   164.50  0.000000       0.000000    14.0             0           4.081548   \n",
       "1   132.50  0.000000       0.000000     1.0             1           0.875490   \n",
       "2   118.00  0.000000       0.000000     1.0             0           0.770266   \n",
       "3   120.25  0.000000       0.000000     NaN             1           1.284305   \n",
       "4    97.85  0.000000       0.000000     5.0             6           0.646854   \n",
       "5    93.10  0.000000       0.000000     4.0            24           0.615665   \n",
       "6    88.45  0.000000       0.000000     2.0             2           0.589176   \n",
       "7    84.25  0.000000       0.000000     1.0             4           0.523442   \n",
       "8    93.45  0.000000       0.000000     2.0            23           0.936951   \n",
       "9    75.10  0.000000       0.000000     1.0           255           0.527593   \n",
       "10   70.05  0.000000       0.000000     2.0            39           0.512395   \n",
       "11   65.25  5.189999       8.678927     1.0            51           0.480962   \n",
       "12   60.60  0.000000       0.000000     1.0           111           0.454778   \n",
       "13   56.20  0.000000       0.000000     1.0            18           0.435461   \n",
       "14   51.95  0.000000       0.000000     2.0            38           0.419012   \n",
       "15   47.90  0.000000       0.000000     1.0            54           0.405859   \n",
       "16   43.95 -0.299999      -0.676436    10.0            61           0.393072   \n",
       "17   40.50  0.150002       0.375004     3.0            57           0.388403   \n",
       "18   37.20  0.310001       0.856594    53.0           334           0.383704   \n",
       "19   33.70  0.000000       0.000000     2.0           134           0.372717   \n",
       "20   29.80  0.000000       0.000000     2.0           263           0.352790   \n",
       "21   26.75  0.900000       3.571427     1.0           471           0.345282   \n",
       "22   23.90  0.520000       2.224125     6.0           826           0.338416   \n",
       "23   21.25 -0.450001      -2.158277     1.0           535           0.332099   \n",
       "24   18.85  0.400000       2.182213     1.0           936           0.327003   \n",
       "25   16.60  0.430000       2.651050     4.0           407           0.321601   \n",
       "26   14.60  0.750000       5.555555     5.0          2006           0.317390   \n",
       "27   12.80  0.000000       0.000000     3.0           291           0.313728   \n",
       "28   11.30  0.340000       3.119267     1.0           910           0.312324   \n",
       "29   10.15 -0.490000      -4.904903     2.0           378           0.314338   \n",
       "30    8.45  0.330000       4.039167    12.0          1353           0.304694   \n",
       "31    7.35  0.000000       0.000000     2.0          1036           0.302924   \n",
       "32    6.35  0.000000       0.000000     4.0           408           0.300788   \n",
       "33    5.50  0.000000       0.000000     4.0            90           0.299415   \n",
       "34    4.75  0.030000       0.645156     5.0           262           0.298072   \n",
       "35    4.15  0.000000       0.000000     1.0           853           0.298164   \n",
       "36    3.95 -0.100000      -2.777775     1.0           192           0.306342   \n",
       "37    3.10  0.000000       0.000000     1.0           191           0.296699   \n",
       "38    2.70  0.700000      37.037033     1.0           178           0.296882   \n",
       "39    2.37  0.000000       0.000000     2.0            93           0.297675   \n",
       "40    2.06  0.000000       0.000000     3.0           793           0.297737   \n",
       "41    1.81  0.750000      72.815540     5.0            38           0.298591   \n",
       "42    1.59  0.000000       0.000000     3.0           285           0.299323   \n",
       "43    1.47  0.000000       0.000000    77.0           349           0.303352   \n",
       "44    1.29  0.000000       0.000000     1.0           246           0.303840   \n",
       "45    1.13  0.000000       0.000000    30.0           118           0.304267   \n",
       "46    1.02  0.000000       0.000000     1.0           214           0.306403   \n",
       "47    0.92  0.000000       0.000000     1.0           726           0.308234   \n",
       "48    0.82  0.000000       0.000000     9.0          1457           0.323859   \n",
       "49    1.21  0.000000       0.000000     2.0             9           0.361579   \n",
       "50    1.16  0.000000       0.000000    23.0            31           0.372443   \n",
       "51    0.50  0.000000       0.000000     1.0            10           0.336432   \n",
       "52    0.55  0.000000       0.000000     2.0           167           0.352912   \n",
       "\n",
       "    inTheMoney contractSize currency  \n",
       "0         True      REGULAR      USD  \n",
       "1         True      REGULAR      USD  \n",
       "2         True      REGULAR      USD  \n",
       "3         True      REGULAR      USD  \n",
       "4         True      REGULAR      USD  \n",
       "5         True      REGULAR      USD  \n",
       "6         True      REGULAR      USD  \n",
       "7         True      REGULAR      USD  \n",
       "8         True      REGULAR      USD  \n",
       "9         True      REGULAR      USD  \n",
       "10        True      REGULAR      USD  \n",
       "11        True      REGULAR      USD  \n",
       "12        True      REGULAR      USD  \n",
       "13        True      REGULAR      USD  \n",
       "14        True      REGULAR      USD  \n",
       "15        True      REGULAR      USD  \n",
       "16        True      REGULAR      USD  \n",
       "17        True      REGULAR      USD  \n",
       "18        True      REGULAR      USD  \n",
       "19        True      REGULAR      USD  \n",
       "20        True      REGULAR      USD  \n",
       "21        True      REGULAR      USD  \n",
       "22        True      REGULAR      USD  \n",
       "23       False      REGULAR      USD  \n",
       "24       False      REGULAR      USD  \n",
       "25       False      REGULAR      USD  \n",
       "26       False      REGULAR      USD  \n",
       "27       False      REGULAR      USD  \n",
       "28       False      REGULAR      USD  \n",
       "29       False      REGULAR      USD  \n",
       "30       False      REGULAR      USD  \n",
       "31       False      REGULAR      USD  \n",
       "32       False      REGULAR      USD  \n",
       "33       False      REGULAR      USD  \n",
       "34       False      REGULAR      USD  \n",
       "35       False      REGULAR      USD  \n",
       "36       False      REGULAR      USD  \n",
       "37       False      REGULAR      USD  \n",
       "38       False      REGULAR      USD  \n",
       "39       False      REGULAR      USD  \n",
       "40       False      REGULAR      USD  \n",
       "41       False      REGULAR      USD  \n",
       "42       False      REGULAR      USD  \n",
       "43       False      REGULAR      USD  \n",
       "44       False      REGULAR      USD  \n",
       "45       False      REGULAR      USD  \n",
       "46       False      REGULAR      USD  \n",
       "47       False      REGULAR      USD  \n",
       "48       False      REGULAR      USD  \n",
       "49       False      REGULAR      USD  \n",
       "50       False      REGULAR      USD  \n",
       "51       False      REGULAR      USD  \n",
       "52       False      REGULAR      USD  , puts=          contractSymbol             lastTradeDate  strike  lastPrice    bid  \\\n",
       "0   GOOGL250919P00025000 2024-08-16 13:37:53+00:00    25.0       1.31   0.00   \n",
       "1   GOOGL250919P00035000 2024-09-13 15:28:24+00:00    35.0       0.05   0.00   \n",
       "2   GOOGL250919P00040000 2024-08-02 14:50:43+00:00    40.0       0.16   0.00   \n",
       "3   GOOGL250919P00045000 2024-08-02 14:51:50+00:00    45.0       0.23   0.00   \n",
       "4   GOOGL250919P00050000 2024-09-16 18:38:00+00:00    50.0       0.29   0.00   \n",
       "5   GOOGL250919P00055000 2024-08-02 14:52:56+00:00    55.0       0.31   0.00   \n",
       "6   GOOGL250919P00060000 2024-08-02 14:56:00+00:00    60.0       0.36   0.00   \n",
       "7   GOOGL250919P00065000 2024-09-27 16:23:07+00:00    65.0       0.13   0.05   \n",
       "8   GOOGL250919P00070000 2024-08-21 18:43:39+00:00    70.0       0.29   0.10   \n",
       "9   GOOGL250919P00075000 2024-09-19 14:50:12+00:00    75.0       0.33   0.20   \n",
       "10  GOOGL250919P00080000 2024-09-23 13:56:32+00:00    80.0       0.50   0.29   \n",
       "11  GOOGL250919P00085000 2024-09-06 17:05:56+00:00    85.0       0.99   0.42   \n",
       "12  GOOGL250919P00090000 2024-09-27 16:26:04+00:00    90.0       0.58   0.59   \n",
       "13  GOOGL250919P00095000 2024-09-27 16:27:23+00:00    95.0       0.83   0.76   \n",
       "14  GOOGL250919P00100000 2024-09-27 16:27:51+00:00   100.0       1.10   0.97   \n",
       "15  GOOGL250919P00105000 2024-09-30 14:55:48+00:00   105.0       1.44   1.37   \n",
       "16  GOOGL250919P00110000 2024-09-25 17:07:53+00:00   110.0       1.88   1.74   \n",
       "17  GOOGL250919P00115000 2024-09-30 15:39:01+00:00   115.0       2.29   2.19   \n",
       "18  GOOGL250919P00120000 2024-09-30 13:30:01+00:00   120.0       2.78   2.82   \n",
       "19  GOOGL250919P00125000 2024-09-26 18:28:49+00:00   125.0       3.65   3.50   \n",
       "20  GOOGL250919P00130000 2024-09-27 19:53:40+00:00   130.0       4.60   4.40   \n",
       "21  GOOGL250919P00135000 2024-09-25 13:49:48+00:00   135.0       5.80   5.40   \n",
       "22  GOOGL250919P00140000 2024-09-30 14:38:08+00:00   140.0       6.90   6.65   \n",
       "23  GOOGL250919P00145000 2024-09-30 16:23:15+00:00   145.0       8.10   8.05   \n",
       "24  GOOGL250919P00150000 2024-09-27 19:54:16+00:00   150.0       9.80   9.65   \n",
       "25  GOOGL250919P00155000 2024-09-27 14:20:42+00:00   155.0      11.50  11.45   \n",
       "26  GOOGL250919P00160000 2024-09-27 16:13:23+00:00   160.0      13.70  13.50   \n",
       "27  GOOGL250919P00165000 2024-09-25 13:50:40+00:00   165.0      16.70  15.75   \n",
       "28  GOOGL250919P00170000 2024-09-27 19:14:31+00:00   170.0      18.45  18.25   \n",
       "29  GOOGL250919P00175000 2024-09-27 17:22:25+00:00   175.0      21.13  21.00   \n",
       "30  GOOGL250919P00180000 2024-09-26 16:44:21+00:00   180.0      24.95  23.95   \n",
       "31  GOOGL250919P00185000 2024-09-13 18:11:10+00:00   185.0      32.23  27.10   \n",
       "32  GOOGL250919P00190000 2024-09-16 14:29:57+00:00   190.0      35.70  30.50   \n",
       "33  GOOGL250919P00195000 2024-09-13 15:26:25+00:00   195.0      40.00  33.95   \n",
       "34  GOOGL250919P00200000 2024-09-24 14:00:56+00:00   200.0      40.75  37.95   \n",
       "35  GOOGL250919P00205000 2024-09-30 17:09:42+00:00   205.0      42.40  42.15   \n",
       "36  GOOGL250919P00210000 2024-07-26 19:26:57+00:00   210.0      45.11  43.95   \n",
       "37  GOOGL250919P00215000 2024-09-30 15:05:49+00:00   215.0      51.60  50.60   \n",
       "38  GOOGL250919P00220000 2024-09-30 14:03:31+00:00   220.0      55.75  55.55   \n",
       "39  GOOGL250919P00225000 2024-07-11 14:31:45+00:00   225.0      41.85  59.10   \n",
       "40  GOOGL250919P00230000 2024-07-11 14:03:22+00:00   230.0      44.70  64.05   \n",
       "41  GOOGL250919P00235000 2024-07-19 14:26:28+00:00   235.0      57.00  69.50   \n",
       "42  GOOGL250919P00240000 2024-06-25 16:28:34+00:00   240.0      58.00  70.00   \n",
       "43  GOOGL250919P00245000 2024-07-16 15:14:46+00:00   245.0      59.74  81.50   \n",
       "44  GOOGL250919P00250000 2024-07-16 15:15:51+00:00   250.0      64.16  86.50   \n",
       "\n",
       "      ask    change  percentChange  volume  openInterest  impliedVolatility  \\\n",
       "0    0.08  0.000000       0.000000     2.0           252           0.699222   \n",
       "1    0.10  0.000000       0.000000     2.0            12           0.587895   \n",
       "2    1.35  0.000000       0.000000     1.0             0           0.763430   \n",
       "3    1.37  0.000000       0.000000     2.0             0           0.704105   \n",
       "4    0.20  0.000000       0.000000     4.0             5           0.538091   \n",
       "5    1.44  0.000000       0.000000     1.0             2           0.606205   \n",
       "6    1.49  0.000000       0.000000     1.0            11           0.564946   \n",
       "7    0.27  0.000000       0.000000    10.0            10           0.443853   \n",
       "8    0.66  0.000000       0.000000     6.0            75           0.475103   \n",
       "9    0.55  0.000000       0.000000     2.0             8           0.426519   \n",
       "10   0.64  0.000000       0.000000     3.0           112           0.405768   \n",
       "11   0.76  0.000000       0.000000     2.0            12           0.387701   \n",
       "12   0.87  0.000000       0.000000     2.0            17           0.367926   \n",
       "13   1.05  0.000000       0.000000     2.0           844           0.353034   \n",
       "14   1.29  0.000000       0.000000     2.0          4307           0.340217   \n",
       "15   1.55 -0.030000      -2.040814   171.0          2933           0.326545   \n",
       "16   1.86  0.000000       0.000000     1.0          1760           0.313361   \n",
       "17   2.34  0.040000       1.777776   250.0           704           0.305061   \n",
       "18   2.99 -0.070000      -2.456138     4.0          2992           0.299262   \n",
       "19   3.80  0.000000       0.000000     1.0          3940           0.294441   \n",
       "20   4.55  0.020000       0.436681   400.0           554           0.284370   \n",
       "21   5.60  0.000000       0.000000     1.0          1198           0.278450   \n",
       "22   6.85  0.000000       0.000000     3.0          2114           0.273201   \n",
       "23   8.20  0.150001       1.886800     3.0           930           0.266304   \n",
       "24   9.80 -0.150000      -1.507534    17.0          2475           0.260475   \n",
       "25  11.65  0.000000       0.000000     1.0          1353           0.255318   \n",
       "26  13.70  0.000000       0.000000    17.0          1566           0.249733   \n",
       "27  16.00  0.000000       0.000000     1.0           814           0.244453   \n",
       "28  18.50  0.000000       0.000000    31.0           891           0.238594   \n",
       "29  21.25  0.000000       0.000000     6.0           377           0.232826   \n",
       "30  24.20  0.000000       0.000000     1.0            94           0.226326   \n",
       "31  27.45  0.000000       0.000000   100.0           141           0.220711   \n",
       "32  30.90  0.000000       0.000000     1.0            23           0.214424   \n",
       "33  34.70  0.000000       0.000000     4.0           411           0.210366   \n",
       "34  38.45  0.000000       0.000000     1.0            45           0.200722   \n",
       "35  42.50 -0.399998      -0.934574     1.0           133           0.192330   \n",
       "36  48.25  0.000000       0.000000     1.0             2           0.226082   \n",
       "37  51.45  1.000000       1.976285     3.0            15           0.184640   \n",
       "38  56.00 -0.450001      -0.800713     8.0            43           0.175179   \n",
       "39  63.90  0.000000       0.000000     NaN            10           0.283210   \n",
       "40  68.95  0.000000       0.000000     5.0            24           0.297218   \n",
       "41  74.50  0.000000       0.000000     1.0             0           0.323310   \n",
       "42  75.00  0.000000       0.000000     NaN             1           0.000010   \n",
       "43  86.00  0.000000       0.000000    74.0             0           0.382697   \n",
       "44  91.00  0.000000       0.000000     2.0             0           0.394537   \n",
       "\n",
       "    inTheMoney contractSize currency  \n",
       "0        False      REGULAR      USD  \n",
       "1        False      REGULAR      USD  \n",
       "2        False      REGULAR      USD  \n",
       "3        False      REGULAR      USD  \n",
       "4        False      REGULAR      USD  \n",
       "5        False      REGULAR      USD  \n",
       "6        False      REGULAR      USD  \n",
       "7        False      REGULAR      USD  \n",
       "8        False      REGULAR      USD  \n",
       "9        False      REGULAR      USD  \n",
       "10       False      REGULAR      USD  \n",
       "11       False      REGULAR      USD  \n",
       "12       False      REGULAR      USD  \n",
       "13       False      REGULAR      USD  \n",
       "14       False      REGULAR      USD  \n",
       "15       False      REGULAR      USD  \n",
       "16       False      REGULAR      USD  \n",
       "17       False      REGULAR      USD  \n",
       "18       False      REGULAR      USD  \n",
       "19       False      REGULAR      USD  \n",
       "20       False      REGULAR      USD  \n",
       "21       False      REGULAR      USD  \n",
       "22       False      REGULAR      USD  \n",
       "23       False      REGULAR      USD  \n",
       "24       False      REGULAR      USD  \n",
       "25       False      REGULAR      USD  \n",
       "26       False      REGULAR      USD  \n",
       "27        True      REGULAR      USD  \n",
       "28        True      REGULAR      USD  \n",
       "29        True      REGULAR      USD  \n",
       "30        True      REGULAR      USD  \n",
       "31        True      REGULAR      USD  \n",
       "32        True      REGULAR      USD  \n",
       "33        True      REGULAR      USD  \n",
       "34        True      REGULAR      USD  \n",
       "35        True      REGULAR      USD  \n",
       "36        True      REGULAR      USD  \n",
       "37        True      REGULAR      USD  \n",
       "38        True      REGULAR      USD  \n",
       "39        True      REGULAR      USD  \n",
       "40        True      REGULAR      USD  \n",
       "41        True      REGULAR      USD  \n",
       "42        True      REGULAR      USD  \n",
       "43        True      REGULAR      USD  \n",
       "44        True      REGULAR      USD  , underlying={'language': 'en-US', 'region': 'US', 'quoteType': 'EQUITY', 'typeDisp': 'Equity', 'quoteSourceName': 'Nasdaq Real Time Price', 'triggerable': True, 'customPriceAlertConfidence': 'HIGH', 'currency': 'USD', 'marketState': 'REGULAR', 'priceHint': 2, 'regularMarketChange': 0.65960693, 'regularMarketTime': 1727718822, 'regularMarketDayHigh': 165.1871, 'regularMarketDayRange': '163.332 - 165.1871', 'regularMarketDayLow': 163.332, 'regularMarketVolume': 6952616, 'regularMarketPreviousClose': 163.95, 'bid': 164.6, 'ask': 164.67, 'bidSize': 1, 'askSize': 1, 'fullExchangeName': 'NasdaqGS', 'financialCurrency': 'USD', 'regularMarketOpen': 163.366, 'averageDailyVolume3Month': 25223231, 'averageDailyVolume10Day': 23802270, 'fiftyTwoWeekLowChange': 44.399605, 'fiftyTwoWeekLowChangePercent': 0.36935034, 'fiftyTwoWeekRange': '120.21 - 191.75', 'fiftyTwoWeekHighChange': -27.140396, 'fiftyTwoWeekHighChangePercent': -0.14154053, 'fiftyTwoWeekLow': 120.21, 'fiftyTwoWeekHigh': 191.75, 'fiftyTwoWeekChangePercent': 22.19572, 'dividendDate': 1726444800, 'earningsTimestamp': 1721764800, 'earningsTimestampStart': 1729627200, 'earningsTimestampEnd': 1730145600, 'earningsCallTimestampStart': 1721766600, 'earningsCallTimestampEnd': 1721766600, 'isEarningsDateEstimate': True, 'trailingAnnualDividendRate': 0.2, 'trailingPE': 23.616873, 'dividendRate': 0.8, 'trailingAnnualDividendYield': 0.0012198841, 'dividendYield': 0.49, 'epsTrailingTwelveMonths': 6.97, 'epsForward': 8.71, 'epsCurrentYear': 7.65, 'priceEpsCurrentYear': 21.517595, 'sharesOutstanding': 5858999808, 'bookValue': 24.408, 'fiftyDayAverage': 163.1184, 'fiftyDayAverageChange': 1.4912109, 'fiftyDayAverageChangePercent': 0.009141893, 'twoHundredDayAverage': 158.4995, 'twoHundredDayAverageChange': 6.1101074, 'twoHundredDayAverageChangePercent': 0.038549695, 'marketCap': 2033850515456, 'forwardPE': 18.898922, 'priceToBook': 6.744084, 'sourceInterval': 15, 'exchangeDataDelayedBy': 0, 'exchange': 'NMS', 'shortName': 'Alphabet Inc.', 'longName': 'Alphabet Inc.', 'messageBoardId': 'finmb_29096', 'exchangeTimezoneName': 'America/New_York', 'exchangeTimezoneShortName': 'EDT', 'gmtOffSetMilliseconds': -14400000, 'market': 'us_market', 'esgPopulated': False, 'regularMarketChangePercent': 0.40232202, 'regularMarketPrice': 164.6096, 'averageAnalystRating': '1.9 - Buy', 'tradeable': False, 'cryptoTradeable': False, 'hasPrePostMarketData': True, 'firstTradeDateMilliseconds': 1092922200000, 'symbol': 'GOOGL'})"
      ]
     },
     "execution_count": 8,
     "metadata": {},
     "output_type": "execute_result"
    }
   ],
   "source": [
    "data.option_chain(closest_date.strftime('%Y-%m-%d'))"
   ]
  },
  {
   "cell_type": "code",
   "execution_count": 21,
   "metadata": {},
   "outputs": [
    {
     "data": {
      "text/html": [
       "<div>\n",
       "<style scoped>\n",
       "    .dataframe tbody tr th:only-of-type {\n",
       "        vertical-align: middle;\n",
       "    }\n",
       "\n",
       "    .dataframe tbody tr th {\n",
       "        vertical-align: top;\n",
       "    }\n",
       "\n",
       "    .dataframe thead th {\n",
       "        text-align: right;\n",
       "    }\n",
       "</style>\n",
       "<table border=\"1\" class=\"dataframe\">\n",
       "  <thead>\n",
       "    <tr style=\"text-align: right;\">\n",
       "      <th></th>\n",
       "      <th>contractSymbol</th>\n",
       "      <th>lastTradeDate</th>\n",
       "      <th>strike</th>\n",
       "      <th>lastPrice</th>\n",
       "      <th>bid</th>\n",
       "      <th>ask</th>\n",
       "      <th>change</th>\n",
       "      <th>percentChange</th>\n",
       "      <th>volume</th>\n",
       "      <th>openInterest</th>\n",
       "      <th>impliedVolatility</th>\n",
       "      <th>inTheMoney</th>\n",
       "      <th>contractSize</th>\n",
       "      <th>currency</th>\n",
       "      <th>Expiration</th>\n",
       "    </tr>\n",
       "  </thead>\n",
       "  <tbody>\n",
       "    <tr>\n",
       "      <th>0</th>\n",
       "      <td>AAPL240920C00005000</td>\n",
       "      <td>2024-09-16 19:44:25+00:00</td>\n",
       "      <td>5.0</td>\n",
       "      <td>211.64</td>\n",
       "      <td>225.85</td>\n",
       "      <td>226.90</td>\n",
       "      <td>0.0</td>\n",
       "      <td>0.0</td>\n",
       "      <td>111.0</td>\n",
       "      <td>442</td>\n",
       "      <td>0.000010</td>\n",
       "      <td>True</td>\n",
       "      <td>REGULAR</td>\n",
       "      <td>USD</td>\n",
       "      <td>2024-09-20</td>\n",
       "    </tr>\n",
       "    <tr>\n",
       "      <th>1</th>\n",
       "      <td>AAPL240920C00010000</td>\n",
       "      <td>2024-08-22 15:33:50+00:00</td>\n",
       "      <td>10.0</td>\n",
       "      <td>215.85</td>\n",
       "      <td>220.90</td>\n",
       "      <td>222.35</td>\n",
       "      <td>0.0</td>\n",
       "      <td>0.0</td>\n",
       "      <td>17.0</td>\n",
       "      <td>19</td>\n",
       "      <td>28.312501</td>\n",
       "      <td>True</td>\n",
       "      <td>REGULAR</td>\n",
       "      <td>USD</td>\n",
       "      <td>2024-09-20</td>\n",
       "    </tr>\n",
       "    <tr>\n",
       "      <th>2</th>\n",
       "      <td>AAPL240920C00015000</td>\n",
       "      <td>2024-09-03 18:15:59+00:00</td>\n",
       "      <td>15.0</td>\n",
       "      <td>207.25</td>\n",
       "      <td>215.80</td>\n",
       "      <td>216.95</td>\n",
       "      <td>0.0</td>\n",
       "      <td>0.0</td>\n",
       "      <td>3.0</td>\n",
       "      <td>10</td>\n",
       "      <td>0.000010</td>\n",
       "      <td>True</td>\n",
       "      <td>REGULAR</td>\n",
       "      <td>USD</td>\n",
       "      <td>2024-09-20</td>\n",
       "    </tr>\n",
       "    <tr>\n",
       "      <th>3</th>\n",
       "      <td>AAPL240920C00020000</td>\n",
       "      <td>2024-08-22 15:33:50+00:00</td>\n",
       "      <td>20.0</td>\n",
       "      <td>205.90</td>\n",
       "      <td>210.65</td>\n",
       "      <td>212.20</td>\n",
       "      <td>0.0</td>\n",
       "      <td>0.0</td>\n",
       "      <td>14.0</td>\n",
       "      <td>14</td>\n",
       "      <td>19.906254</td>\n",
       "      <td>True</td>\n",
       "      <td>REGULAR</td>\n",
       "      <td>USD</td>\n",
       "      <td>2024-09-20</td>\n",
       "    </tr>\n",
       "    <tr>\n",
       "      <th>4</th>\n",
       "      <td>AAPL240920C00025000</td>\n",
       "      <td>2024-08-22 15:28:47+00:00</td>\n",
       "      <td>25.0</td>\n",
       "      <td>201.40</td>\n",
       "      <td>206.05</td>\n",
       "      <td>206.90</td>\n",
       "      <td>0.0</td>\n",
       "      <td>0.0</td>\n",
       "      <td>21.0</td>\n",
       "      <td>23</td>\n",
       "      <td>0.000010</td>\n",
       "      <td>True</td>\n",
       "      <td>REGULAR</td>\n",
       "      <td>USD</td>\n",
       "      <td>2024-09-20</td>\n",
       "    </tr>\n",
       "  </tbody>\n",
       "</table>\n",
       "</div>"
      ],
      "text/plain": [
       "        contractSymbol             lastTradeDate  strike  lastPrice     bid  \\\n",
       "0  AAPL240920C00005000 2024-09-16 19:44:25+00:00     5.0     211.64  225.85   \n",
       "1  AAPL240920C00010000 2024-08-22 15:33:50+00:00    10.0     215.85  220.90   \n",
       "2  AAPL240920C00015000 2024-09-03 18:15:59+00:00    15.0     207.25  215.80   \n",
       "3  AAPL240920C00020000 2024-08-22 15:33:50+00:00    20.0     205.90  210.65   \n",
       "4  AAPL240920C00025000 2024-08-22 15:28:47+00:00    25.0     201.40  206.05   \n",
       "\n",
       "      ask  change  percentChange  volume  openInterest  impliedVolatility  \\\n",
       "0  226.90     0.0            0.0   111.0           442           0.000010   \n",
       "1  222.35     0.0            0.0    17.0            19          28.312501   \n",
       "2  216.95     0.0            0.0     3.0            10           0.000010   \n",
       "3  212.20     0.0            0.0    14.0            14          19.906254   \n",
       "4  206.90     0.0            0.0    21.0            23           0.000010   \n",
       "\n",
       "   inTheMoney contractSize currency  Expiration  \n",
       "0        True      REGULAR      USD  2024-09-20  \n",
       "1        True      REGULAR      USD  2024-09-20  \n",
       "2        True      REGULAR      USD  2024-09-20  \n",
       "3        True      REGULAR      USD  2024-09-20  \n",
       "4        True      REGULAR      USD  2024-09-20  "
      ]
     },
     "execution_count": 21,
     "metadata": {},
     "output_type": "execute_result"
    }
   ],
   "source": [
    "options_date = data.options\n",
    "options = pd.DataFrame()\n",
    "for date in options_date:\n",
    "    option = data.option_chain(date)\n",
    "    calls = option.calls\n",
    "    calls['Expiration'] = date\n",
    "    options = pd.concat([options,calls],ignore_index=True)\n",
    "    \n",
    "options.head()"
   ]
  },
  {
   "cell_type": "code",
   "execution_count": 60,
   "metadata": {},
   "outputs": [],
   "source": [
    "test = options.loc[250:500]"
   ]
  },
  {
   "cell_type": "code",
   "execution_count": 67,
   "metadata": {},
   "outputs": [
    {
     "data": {
      "application/vnd.plotly.v1+json": {
       "config": {
        "plotlyServerURL": "https://plot.ly"
       },
       "data": [
        {
         "type": "surface",
         "x": [
          360,
          370,
          150,
          160,
          165,
          170,
          175,
          180,
          185,
          190,
          195,
          200,
          205,
          210,
          215,
          220,
          225,
          230,
          235,
          240,
          245,
          250,
          255,
          260,
          265,
          270,
          275,
          280,
          285,
          295,
          300,
          175,
          180,
          185,
          200,
          210,
          215,
          220,
          225,
          230,
          235,
          240,
          245,
          250,
          255,
          285,
          290,
          5,
          50,
          55,
          65,
          70,
          75,
          80,
          85,
          90,
          95,
          100,
          105,
          110,
          115,
          120,
          125,
          130,
          135,
          140,
          145,
          150,
          155,
          160,
          165,
          170,
          175,
          180,
          185,
          190,
          195,
          200,
          205,
          210,
          215,
          220,
          225,
          230,
          235,
          240,
          245,
          250,
          255,
          260,
          265,
          270,
          275,
          280,
          285,
          290,
          295,
          300,
          310,
          320,
          330,
          340,
          350,
          360,
          370,
          20,
          50,
          55,
          60,
          65,
          70,
          75,
          80,
          85,
          90,
          95,
          100,
          105,
          110,
          115,
          120,
          125,
          130,
          135,
          140,
          145,
          150,
          155,
          160,
          165,
          170,
          175,
          180,
          185,
          190,
          195,
          200,
          205,
          210,
          215,
          220,
          225,
          230,
          235,
          240,
          245,
          250,
          255,
          260,
          265,
          270,
          275,
          280,
          285,
          290,
          295,
          300,
          305,
          310,
          320,
          330,
          340,
          350,
          5,
          10,
          15,
          20,
          25,
          30,
          35,
          40,
          45,
          50,
          55,
          60,
          65,
          70,
          75,
          80,
          85,
          90,
          95,
          100,
          105,
          110,
          115,
          120,
          125,
          130,
          135,
          140,
          145,
          150,
          155,
          160,
          165,
          170,
          175,
          180,
          185,
          190,
          195,
          200,
          205,
          210,
          215,
          220,
          225,
          230,
          235,
          240,
          245,
          250,
          255,
          260,
          265,
          270,
          275,
          280,
          285,
          290,
          295,
          300,
          305,
          310,
          315,
          320,
          325,
          330,
          335,
          340,
          345,
          350,
          355,
          360,
          365,
          370,
          375,
          380,
          105,
          115,
          125,
          130,
          150,
          155,
          160,
          165,
          170,
          175,
          180,
          185
         ],
         "y": [
          0.07397260273972603,
          0.07397260273972603,
          0.09315068493150686,
          0.09315068493150686,
          0.09315068493150686,
          0.09315068493150686,
          0.09315068493150686,
          0.09315068493150686,
          0.09315068493150686,
          0.09315068493150686,
          0.09315068493150686,
          0.09315068493150686,
          0.09315068493150686,
          0.09315068493150686,
          0.09315068493150686,
          0.09315068493150686,
          0.09315068493150686,
          0.09315068493150686,
          0.09315068493150686,
          0.09315068493150686,
          0.09315068493150686,
          0.09315068493150686,
          0.09315068493150686,
          0.09315068493150686,
          0.09315068493150686,
          0.09315068493150686,
          0.09315068493150686,
          0.09315068493150686,
          0.09315068493150686,
          0.09315068493150686,
          0.09315068493150686,
          0.11232876712328767,
          0.11232876712328767,
          0.11232876712328767,
          0.11232876712328767,
          0.11232876712328767,
          0.11232876712328767,
          0.11232876712328767,
          0.11232876712328767,
          0.11232876712328767,
          0.11232876712328767,
          0.11232876712328767,
          0.11232876712328767,
          0.11232876712328767,
          0.11232876712328767,
          0.11232876712328767,
          0.11232876712328767,
          0.1506849315068493,
          0.1506849315068493,
          0.1506849315068493,
          0.1506849315068493,
          0.1506849315068493,
          0.1506849315068493,
          0.1506849315068493,
          0.1506849315068493,
          0.1506849315068493,
          0.1506849315068493,
          0.1506849315068493,
          0.1506849315068493,
          0.1506849315068493,
          0.1506849315068493,
          0.1506849315068493,
          0.1506849315068493,
          0.1506849315068493,
          0.1506849315068493,
          0.1506849315068493,
          0.1506849315068493,
          0.1506849315068493,
          0.1506849315068493,
          0.1506849315068493,
          0.1506849315068493,
          0.1506849315068493,
          0.1506849315068493,
          0.1506849315068493,
          0.1506849315068493,
          0.1506849315068493,
          0.1506849315068493,
          0.1506849315068493,
          0.1506849315068493,
          0.1506849315068493,
          0.1506849315068493,
          0.1506849315068493,
          0.1506849315068493,
          0.1506849315068493,
          0.1506849315068493,
          0.1506849315068493,
          0.1506849315068493,
          0.1506849315068493,
          0.1506849315068493,
          0.1506849315068493,
          0.1506849315068493,
          0.1506849315068493,
          0.1506849315068493,
          0.1506849315068493,
          0.1506849315068493,
          0.1506849315068493,
          0.1506849315068493,
          0.1506849315068493,
          0.1506849315068493,
          0.1506849315068493,
          0.1506849315068493,
          0.1506849315068493,
          0.1506849315068493,
          0.1506849315068493,
          0.1506849315068493,
          0.2465753424657534,
          0.2465753424657534,
          0.2465753424657534,
          0.2465753424657534,
          0.2465753424657534,
          0.2465753424657534,
          0.2465753424657534,
          0.2465753424657534,
          0.2465753424657534,
          0.2465753424657534,
          0.2465753424657534,
          0.2465753424657534,
          0.2465753424657534,
          0.2465753424657534,
          0.2465753424657534,
          0.2465753424657534,
          0.2465753424657534,
          0.2465753424657534,
          0.2465753424657534,
          0.2465753424657534,
          0.2465753424657534,
          0.2465753424657534,
          0.2465753424657534,
          0.2465753424657534,
          0.2465753424657534,
          0.2465753424657534,
          0.2465753424657534,
          0.2465753424657534,
          0.2465753424657534,
          0.2465753424657534,
          0.2465753424657534,
          0.2465753424657534,
          0.2465753424657534,
          0.2465753424657534,
          0.2465753424657534,
          0.2465753424657534,
          0.2465753424657534,
          0.2465753424657534,
          0.2465753424657534,
          0.2465753424657534,
          0.2465753424657534,
          0.2465753424657534,
          0.2465753424657534,
          0.2465753424657534,
          0.2465753424657534,
          0.2465753424657534,
          0.2465753424657534,
          0.2465753424657534,
          0.2465753424657534,
          0.2465753424657534,
          0.2465753424657534,
          0.2465753424657534,
          0.2465753424657534,
          0.2465753424657534,
          0.2465753424657534,
          0.2465753424657534,
          0.2465753424657534,
          0.2465753424657534,
          0.3232876712328767,
          0.3232876712328767,
          0.3232876712328767,
          0.3232876712328767,
          0.3232876712328767,
          0.3232876712328767,
          0.3232876712328767,
          0.3232876712328767,
          0.3232876712328767,
          0.3232876712328767,
          0.3232876712328767,
          0.3232876712328767,
          0.3232876712328767,
          0.3232876712328767,
          0.3232876712328767,
          0.3232876712328767,
          0.3232876712328767,
          0.3232876712328767,
          0.3232876712328767,
          0.3232876712328767,
          0.3232876712328767,
          0.3232876712328767,
          0.3232876712328767,
          0.3232876712328767,
          0.3232876712328767,
          0.3232876712328767,
          0.3232876712328767,
          0.3232876712328767,
          0.3232876712328767,
          0.3232876712328767,
          0.3232876712328767,
          0.3232876712328767,
          0.3232876712328767,
          0.3232876712328767,
          0.3232876712328767,
          0.3232876712328767,
          0.3232876712328767,
          0.3232876712328767,
          0.3232876712328767,
          0.3232876712328767,
          0.3232876712328767,
          0.3232876712328767,
          0.3232876712328767,
          0.3232876712328767,
          0.3232876712328767,
          0.3232876712328767,
          0.3232876712328767,
          0.3232876712328767,
          0.3232876712328767,
          0.3232876712328767,
          0.3232876712328767,
          0.3232876712328767,
          0.3232876712328767,
          0.3232876712328767,
          0.3232876712328767,
          0.3232876712328767,
          0.3232876712328767,
          0.3232876712328767,
          0.3232876712328767,
          0.3232876712328767,
          0.3232876712328767,
          0.3232876712328767,
          0.3232876712328767,
          0.3232876712328767,
          0.3232876712328767,
          0.3232876712328767,
          0.3232876712328767,
          0.3232876712328767,
          0.3232876712328767,
          0.3232876712328767,
          0.3232876712328767,
          0.3232876712328767,
          0.3232876712328767,
          0.3232876712328767,
          0.3232876712328767,
          0.3232876712328767,
          0.4191780821917808,
          0.4191780821917808,
          0.4191780821917808,
          0.4191780821917808,
          0.4191780821917808,
          0.4191780821917808,
          0.4191780821917808,
          0.4191780821917808,
          0.4191780821917808,
          0.4191780821917808,
          0.4191780821917808,
          0.4191780821917808
         ],
         "z": [
          50.0005,
          50.0005,
          68.7503125,
          62.500375000000005,
          58.00823242187501,
          53.613745117187506,
          51.758294921875006,
          50.098155273437506,
          49.585465087890626,
          43.87263159179688,
          39.83214465332031,
          37.451797363281244,
          33.85075915527344,
          32.70330969238281,
          27.99144274902343,
          25.940682006835942,
          24.268335449218746,
          22.809609802246094,
          21.839160522460936,
          20.960263061523435,
          20.368227966308595,
          20.2156416015625,
          20.264469238281247,
          20.899228515624994,
          21.631643066406248,
          22.1687470703125,
          23.1452998046875,
          24.7077841796875,
          25.196060546875,
          28.906960937499992,
          29.492892578124994,
          52.29539892578124,
          52.75926147460939,
          46.851117431640624,
          37.756970092773436,
          32.971861694335935,
          31.59858441162109,
          29.675996215820312,
          28.003649658203116,
          26.758544921875,
          25.690440368652347,
          24.835956726074222,
          24.225611267089842,
          23.694610717773436,
          23.52371398925781,
          25.879647460937505,
          28.906960937499992,
          0.0010000000000000002,
          0.0010000000000000002,
          0.0010000000000000002,
          0.0010000000000000002,
          103.12548437500001,
          0.0010000000000000002,
          106.05515722656251,
          97.070341796875,
          101.46533642578123,
          0.0010000000000000002,
          84.961087890625,
          88.86729882812499,
          90.3321279296875,
          85.40053662109376,
          83.007982421875,
          76.95335546875,
          77.00218310546876,
          72.02176416015625,
          68.7503125,
          65.96713720703126,
          62.25623681640625,
          60.10782080078126,
          55.39595385742189,
          54.565884033203126,
          50.34229345703125,
          50.23243127441408,
          45.813530151367196,
          43.04256176757813,
          40.12511047363281,
          38.550419189453116,
          36.01138208007812,
          34.0826904296875,
          32.288274780273426,
          30.634238586425777,
          29.10227148437499,
          28.09520147705078,
          26.82568292236328,
          25.879647460937505,
          25.025163818359374,
          24.56130126953125,
          23.987576538085932,
          23.596955444335936,
          23.450472534179685,
          23.389437988281248,
          23.511507080078125,
          23.633576171875,
          23.9265419921875,
          24.5124736328125,
          25.147232910156248,
          25.6843369140625,
          26.758544921875,
          27.930408203124994,
          29.688203124999994,
          32.227240234374996,
          33.20379296875,
          36.914693359375,
          37.89124609375,
          39.8443515625,
          0.0010000000000000002,
          136.62141064453124,
          109.57076464843752,
          0.0010000000000000002,
          0.0010000000000000002,
          106.25046875000001,
          0.0010000000000000002,
          0.0010000000000000002,
          0.0010000000000000002,
          0.0010000000000000002,
          89.062609375,
          85.54701953125,
          82.59294750976561,
          82.61736132812499,
          76.63597583007812,
          73.633076171875,
          72.31472998046875,
          67.70051831054688,
          64.45348046875,
          63.086306640625,
          60.547269531250016,
          57.727473510742186,
          53.93112475585939,
          51.37988073730468,
          50.574224731445305,
          47.949739257812496,
          45.28863305664063,
          43.066975585937506,
          40.497421203613285,
          38.67248828125,
          36.06631317138671,
          34.36955279541015,
          32.38593005371093,
          31.104204589843743,
          29.779754943847646,
          28.232529205322265,
          27.32006274414062,
          26.227544372558597,
          25.336440002441407,
          24.481956359863283,
          23.74954180908203,
          23.29178271484375,
          22.96219616699219,
          22.461712890624995,
          22.3640576171875,
          22.24198852539062,
          22.278609252929684,
          22.315229980468747,
          22.583781982421876,
          22.827920166015623,
          23.242955078125,
          23.68240380859375,
          24.073024902343747,
          24.414818359375,
          26.026130371093746,
          27.735097656249998,
          28.711650390624992,
          30.664755859375,
          0.0010000000000000002,
          0.0010000000000000002,
          150.00025,
          0.0010000000000000002,
          159.9611376953125,
          0.0010000000000000002,
          0.0010000000000000002,
          156.54318603515622,
          0.0010000000000000002,
          102.1489267578125,
          112.30512597656251,
          108.984830078125,
          102.73486132812502,
          104.68797656250001,
          98.3398603515625,
          95.36137451171875,
          92.33406103515625,
          86.52357226562499,
          86.20619262695313,
          83.83805224609374,
          80.42011767578124,
          77.97873583984375,
          75.195560546875,
          70.45927978515626,
          67.38313867187502,
          64.79527392578125,
          62.01209863281252,
          58.496508789062496,
          56.68988623046876,
          54.272918212890644,
          51.69726037597657,
          50.72070764160157,
          48.1450498046875,
          45.79521978759766,
          44.214425048828126,
          41.33359448242187,
          38.99597137451172,
          37.402969726562496,
          35.01041552734374,
          33.77141424560547,
          32.245550598144526,
          30.799031860351555,
          29.48678912353515,
          28.327132751464834,
          27.057614196777347,
          26.197027099609375,
          25.202164001464844,
          24.411766632080077,
          23.712921081542966,
          23.32840344238281,
          22.772989074707027,
          22.431195617675776,
          22.13822979736328,
          22.003953796386718,
          21.92460888671875,
          21.949022705078125,
          22.01005725097656,
          22.132126342773436,
          22.400678344726558,
          22.559368164062498,
          22.9499892578125,
          23.29178271484375,
          23.80447290039062,
          24.17068017578125,
          24.658956542968753,
          25.2937158203125,
          25.879647460937505,
          26.807372558593745,
          28.321029296874993,
          27.3444765625,
          28.125718749999994,
          30.274134765625,
          28.516339843749993,
          32.617861328124995,
          32.227240234374996,
          30.762411132812495,
          74.36549072265625,
          68.53058813476562,
          63.11072045898438,
          60.21768298339845,
          50.26905200195313,
          50.11646563720704,
          48.065704895019536,
          45.96611651611329,
          43.82380395507813,
          41.80966394042969,
          39.88097229003906,
          38.15979809570312
         ]
        }
       ],
       "layout": {
        "template": {
         "data": {
          "bar": [
           {
            "error_x": {
             "color": "#2a3f5f"
            },
            "error_y": {
             "color": "#2a3f5f"
            },
            "marker": {
             "line": {
              "color": "#E5ECF6",
              "width": 0.5
             },
             "pattern": {
              "fillmode": "overlay",
              "size": 10,
              "solidity": 0.2
             }
            },
            "type": "bar"
           }
          ],
          "barpolar": [
           {
            "marker": {
             "line": {
              "color": "#E5ECF6",
              "width": 0.5
             },
             "pattern": {
              "fillmode": "overlay",
              "size": 10,
              "solidity": 0.2
             }
            },
            "type": "barpolar"
           }
          ],
          "carpet": [
           {
            "aaxis": {
             "endlinecolor": "#2a3f5f",
             "gridcolor": "white",
             "linecolor": "white",
             "minorgridcolor": "white",
             "startlinecolor": "#2a3f5f"
            },
            "baxis": {
             "endlinecolor": "#2a3f5f",
             "gridcolor": "white",
             "linecolor": "white",
             "minorgridcolor": "white",
             "startlinecolor": "#2a3f5f"
            },
            "type": "carpet"
           }
          ],
          "choropleth": [
           {
            "colorbar": {
             "outlinewidth": 0,
             "ticks": ""
            },
            "type": "choropleth"
           }
          ],
          "contour": [
           {
            "colorbar": {
             "outlinewidth": 0,
             "ticks": ""
            },
            "colorscale": [
             [
              0,
              "#0d0887"
             ],
             [
              0.1111111111111111,
              "#46039f"
             ],
             [
              0.2222222222222222,
              "#7201a8"
             ],
             [
              0.3333333333333333,
              "#9c179e"
             ],
             [
              0.4444444444444444,
              "#bd3786"
             ],
             [
              0.5555555555555556,
              "#d8576b"
             ],
             [
              0.6666666666666666,
              "#ed7953"
             ],
             [
              0.7777777777777778,
              "#fb9f3a"
             ],
             [
              0.8888888888888888,
              "#fdca26"
             ],
             [
              1,
              "#f0f921"
             ]
            ],
            "type": "contour"
           }
          ],
          "contourcarpet": [
           {
            "colorbar": {
             "outlinewidth": 0,
             "ticks": ""
            },
            "type": "contourcarpet"
           }
          ],
          "heatmap": [
           {
            "colorbar": {
             "outlinewidth": 0,
             "ticks": ""
            },
            "colorscale": [
             [
              0,
              "#0d0887"
             ],
             [
              0.1111111111111111,
              "#46039f"
             ],
             [
              0.2222222222222222,
              "#7201a8"
             ],
             [
              0.3333333333333333,
              "#9c179e"
             ],
             [
              0.4444444444444444,
              "#bd3786"
             ],
             [
              0.5555555555555556,
              "#d8576b"
             ],
             [
              0.6666666666666666,
              "#ed7953"
             ],
             [
              0.7777777777777778,
              "#fb9f3a"
             ],
             [
              0.8888888888888888,
              "#fdca26"
             ],
             [
              1,
              "#f0f921"
             ]
            ],
            "type": "heatmap"
           }
          ],
          "heatmapgl": [
           {
            "colorbar": {
             "outlinewidth": 0,
             "ticks": ""
            },
            "colorscale": [
             [
              0,
              "#0d0887"
             ],
             [
              0.1111111111111111,
              "#46039f"
             ],
             [
              0.2222222222222222,
              "#7201a8"
             ],
             [
              0.3333333333333333,
              "#9c179e"
             ],
             [
              0.4444444444444444,
              "#bd3786"
             ],
             [
              0.5555555555555556,
              "#d8576b"
             ],
             [
              0.6666666666666666,
              "#ed7953"
             ],
             [
              0.7777777777777778,
              "#fb9f3a"
             ],
             [
              0.8888888888888888,
              "#fdca26"
             ],
             [
              1,
              "#f0f921"
             ]
            ],
            "type": "heatmapgl"
           }
          ],
          "histogram": [
           {
            "marker": {
             "pattern": {
              "fillmode": "overlay",
              "size": 10,
              "solidity": 0.2
             }
            },
            "type": "histogram"
           }
          ],
          "histogram2d": [
           {
            "colorbar": {
             "outlinewidth": 0,
             "ticks": ""
            },
            "colorscale": [
             [
              0,
              "#0d0887"
             ],
             [
              0.1111111111111111,
              "#46039f"
             ],
             [
              0.2222222222222222,
              "#7201a8"
             ],
             [
              0.3333333333333333,
              "#9c179e"
             ],
             [
              0.4444444444444444,
              "#bd3786"
             ],
             [
              0.5555555555555556,
              "#d8576b"
             ],
             [
              0.6666666666666666,
              "#ed7953"
             ],
             [
              0.7777777777777778,
              "#fb9f3a"
             ],
             [
              0.8888888888888888,
              "#fdca26"
             ],
             [
              1,
              "#f0f921"
             ]
            ],
            "type": "histogram2d"
           }
          ],
          "histogram2dcontour": [
           {
            "colorbar": {
             "outlinewidth": 0,
             "ticks": ""
            },
            "colorscale": [
             [
              0,
              "#0d0887"
             ],
             [
              0.1111111111111111,
              "#46039f"
             ],
             [
              0.2222222222222222,
              "#7201a8"
             ],
             [
              0.3333333333333333,
              "#9c179e"
             ],
             [
              0.4444444444444444,
              "#bd3786"
             ],
             [
              0.5555555555555556,
              "#d8576b"
             ],
             [
              0.6666666666666666,
              "#ed7953"
             ],
             [
              0.7777777777777778,
              "#fb9f3a"
             ],
             [
              0.8888888888888888,
              "#fdca26"
             ],
             [
              1,
              "#f0f921"
             ]
            ],
            "type": "histogram2dcontour"
           }
          ],
          "mesh3d": [
           {
            "colorbar": {
             "outlinewidth": 0,
             "ticks": ""
            },
            "type": "mesh3d"
           }
          ],
          "parcoords": [
           {
            "line": {
             "colorbar": {
              "outlinewidth": 0,
              "ticks": ""
             }
            },
            "type": "parcoords"
           }
          ],
          "pie": [
           {
            "automargin": true,
            "type": "pie"
           }
          ],
          "scatter": [
           {
            "fillpattern": {
             "fillmode": "overlay",
             "size": 10,
             "solidity": 0.2
            },
            "type": "scatter"
           }
          ],
          "scatter3d": [
           {
            "line": {
             "colorbar": {
              "outlinewidth": 0,
              "ticks": ""
             }
            },
            "marker": {
             "colorbar": {
              "outlinewidth": 0,
              "ticks": ""
             }
            },
            "type": "scatter3d"
           }
          ],
          "scattercarpet": [
           {
            "marker": {
             "colorbar": {
              "outlinewidth": 0,
              "ticks": ""
             }
            },
            "type": "scattercarpet"
           }
          ],
          "scattergeo": [
           {
            "marker": {
             "colorbar": {
              "outlinewidth": 0,
              "ticks": ""
             }
            },
            "type": "scattergeo"
           }
          ],
          "scattergl": [
           {
            "marker": {
             "colorbar": {
              "outlinewidth": 0,
              "ticks": ""
             }
            },
            "type": "scattergl"
           }
          ],
          "scattermapbox": [
           {
            "marker": {
             "colorbar": {
              "outlinewidth": 0,
              "ticks": ""
             }
            },
            "type": "scattermapbox"
           }
          ],
          "scatterpolar": [
           {
            "marker": {
             "colorbar": {
              "outlinewidth": 0,
              "ticks": ""
             }
            },
            "type": "scatterpolar"
           }
          ],
          "scatterpolargl": [
           {
            "marker": {
             "colorbar": {
              "outlinewidth": 0,
              "ticks": ""
             }
            },
            "type": "scatterpolargl"
           }
          ],
          "scatterternary": [
           {
            "marker": {
             "colorbar": {
              "outlinewidth": 0,
              "ticks": ""
             }
            },
            "type": "scatterternary"
           }
          ],
          "surface": [
           {
            "colorbar": {
             "outlinewidth": 0,
             "ticks": ""
            },
            "colorscale": [
             [
              0,
              "#0d0887"
             ],
             [
              0.1111111111111111,
              "#46039f"
             ],
             [
              0.2222222222222222,
              "#7201a8"
             ],
             [
              0.3333333333333333,
              "#9c179e"
             ],
             [
              0.4444444444444444,
              "#bd3786"
             ],
             [
              0.5555555555555556,
              "#d8576b"
             ],
             [
              0.6666666666666666,
              "#ed7953"
             ],
             [
              0.7777777777777778,
              "#fb9f3a"
             ],
             [
              0.8888888888888888,
              "#fdca26"
             ],
             [
              1,
              "#f0f921"
             ]
            ],
            "type": "surface"
           }
          ],
          "table": [
           {
            "cells": {
             "fill": {
              "color": "#EBF0F8"
             },
             "line": {
              "color": "white"
             }
            },
            "header": {
             "fill": {
              "color": "#C8D4E3"
             },
             "line": {
              "color": "white"
             }
            },
            "type": "table"
           }
          ]
         },
         "layout": {
          "annotationdefaults": {
           "arrowcolor": "#2a3f5f",
           "arrowhead": 0,
           "arrowwidth": 1
          },
          "autotypenumbers": "strict",
          "coloraxis": {
           "colorbar": {
            "outlinewidth": 0,
            "ticks": ""
           }
          },
          "colorscale": {
           "diverging": [
            [
             0,
             "#8e0152"
            ],
            [
             0.1,
             "#c51b7d"
            ],
            [
             0.2,
             "#de77ae"
            ],
            [
             0.3,
             "#f1b6da"
            ],
            [
             0.4,
             "#fde0ef"
            ],
            [
             0.5,
             "#f7f7f7"
            ],
            [
             0.6,
             "#e6f5d0"
            ],
            [
             0.7,
             "#b8e186"
            ],
            [
             0.8,
             "#7fbc41"
            ],
            [
             0.9,
             "#4d9221"
            ],
            [
             1,
             "#276419"
            ]
           ],
           "sequential": [
            [
             0,
             "#0d0887"
            ],
            [
             0.1111111111111111,
             "#46039f"
            ],
            [
             0.2222222222222222,
             "#7201a8"
            ],
            [
             0.3333333333333333,
             "#9c179e"
            ],
            [
             0.4444444444444444,
             "#bd3786"
            ],
            [
             0.5555555555555556,
             "#d8576b"
            ],
            [
             0.6666666666666666,
             "#ed7953"
            ],
            [
             0.7777777777777778,
             "#fb9f3a"
            ],
            [
             0.8888888888888888,
             "#fdca26"
            ],
            [
             1,
             "#f0f921"
            ]
           ],
           "sequentialminus": [
            [
             0,
             "#0d0887"
            ],
            [
             0.1111111111111111,
             "#46039f"
            ],
            [
             0.2222222222222222,
             "#7201a8"
            ],
            [
             0.3333333333333333,
             "#9c179e"
            ],
            [
             0.4444444444444444,
             "#bd3786"
            ],
            [
             0.5555555555555556,
             "#d8576b"
            ],
            [
             0.6666666666666666,
             "#ed7953"
            ],
            [
             0.7777777777777778,
             "#fb9f3a"
            ],
            [
             0.8888888888888888,
             "#fdca26"
            ],
            [
             1,
             "#f0f921"
            ]
           ]
          },
          "colorway": [
           "#636efa",
           "#EF553B",
           "#00cc96",
           "#ab63fa",
           "#FFA15A",
           "#19d3f3",
           "#FF6692",
           "#B6E880",
           "#FF97FF",
           "#FECB52"
          ],
          "font": {
           "color": "#2a3f5f"
          },
          "geo": {
           "bgcolor": "white",
           "lakecolor": "white",
           "landcolor": "#E5ECF6",
           "showlakes": true,
           "showland": true,
           "subunitcolor": "white"
          },
          "hoverlabel": {
           "align": "left"
          },
          "hovermode": "closest",
          "mapbox": {
           "style": "light"
          },
          "paper_bgcolor": "white",
          "plot_bgcolor": "#E5ECF6",
          "polar": {
           "angularaxis": {
            "gridcolor": "white",
            "linecolor": "white",
            "ticks": ""
           },
           "bgcolor": "#E5ECF6",
           "radialaxis": {
            "gridcolor": "white",
            "linecolor": "white",
            "ticks": ""
           }
          },
          "scene": {
           "xaxis": {
            "backgroundcolor": "#E5ECF6",
            "gridcolor": "white",
            "gridwidth": 2,
            "linecolor": "white",
            "showbackground": true,
            "ticks": "",
            "zerolinecolor": "white"
           },
           "yaxis": {
            "backgroundcolor": "#E5ECF6",
            "gridcolor": "white",
            "gridwidth": 2,
            "linecolor": "white",
            "showbackground": true,
            "ticks": "",
            "zerolinecolor": "white"
           },
           "zaxis": {
            "backgroundcolor": "#E5ECF6",
            "gridcolor": "white",
            "gridwidth": 2,
            "linecolor": "white",
            "showbackground": true,
            "ticks": "",
            "zerolinecolor": "white"
           }
          },
          "shapedefaults": {
           "line": {
            "color": "#2a3f5f"
           }
          },
          "ternary": {
           "aaxis": {
            "gridcolor": "white",
            "linecolor": "white",
            "ticks": ""
           },
           "baxis": {
            "gridcolor": "white",
            "linecolor": "white",
            "ticks": ""
           },
           "bgcolor": "#E5ECF6",
           "caxis": {
            "gridcolor": "white",
            "linecolor": "white",
            "ticks": ""
           }
          },
          "title": {
           "x": 0.05
          },
          "xaxis": {
           "automargin": true,
           "gridcolor": "white",
           "linecolor": "white",
           "ticks": "",
           "title": {
            "standoff": 15
           },
           "zerolinecolor": "white",
           "zerolinewidth": 2
          },
          "yaxis": {
           "automargin": true,
           "gridcolor": "white",
           "linecolor": "white",
           "ticks": "",
           "title": {
            "standoff": 15
           },
           "zerolinecolor": "white",
           "zerolinewidth": 2
          }
         }
        }
       }
      }
     },
     "metadata": {},
     "output_type": "display_data"
    }
   ],
   "source": [
    "Ks = test['strike'].values\n",
    "IVs = test['impliedVolatility'].values * 100\n",
    "expiration_dates = []\n",
    "for date in test['Expiration']:\n",
    "    T = (pd.to_datetime(date) - pd.Timestamp.now()).days / 365.0\n",
    "    expiration_dates.append(T)\n",
    "    \n",
    "figure = go.Figure()\n",
    "figure.add_trace(go.Surface(x=Ks,y=expiration_dates,z=IVs))"
   ]
  },
  {
   "cell_type": "code",
   "execution_count": 32,
   "metadata": {},
   "outputs": [
    {
     "data": {
      "text/html": [
       "<div>\n",
       "<style scoped>\n",
       "    .dataframe tbody tr th:only-of-type {\n",
       "        vertical-align: middle;\n",
       "    }\n",
       "\n",
       "    .dataframe tbody tr th {\n",
       "        vertical-align: top;\n",
       "    }\n",
       "\n",
       "    .dataframe thead th {\n",
       "        text-align: right;\n",
       "    }\n",
       "</style>\n",
       "<table border=\"1\" class=\"dataframe\">\n",
       "  <thead>\n",
       "    <tr style=\"text-align: right;\">\n",
       "      <th></th>\n",
       "      <th>contractSymbol</th>\n",
       "      <th>lastTradeDate</th>\n",
       "      <th>strike</th>\n",
       "      <th>lastPrice</th>\n",
       "      <th>bid</th>\n",
       "      <th>ask</th>\n",
       "      <th>change</th>\n",
       "      <th>percentChange</th>\n",
       "      <th>volume</th>\n",
       "      <th>openInterest</th>\n",
       "      <th>impliedVolatility</th>\n",
       "      <th>inTheMoney</th>\n",
       "      <th>contractSize</th>\n",
       "      <th>currency</th>\n",
       "      <th>Expiration</th>\n",
       "    </tr>\n",
       "  </thead>\n",
       "  <tbody>\n",
       "    <tr>\n",
       "      <th>0</th>\n",
       "      <td>AAPL240920C00005000</td>\n",
       "      <td>2024-09-16 19:44:25+00:00</td>\n",
       "      <td>5.0</td>\n",
       "      <td>211.64</td>\n",
       "      <td>225.85</td>\n",
       "      <td>226.9</td>\n",
       "      <td>0.0</td>\n",
       "      <td>0.0</td>\n",
       "      <td>111.0</td>\n",
       "      <td>442</td>\n",
       "      <td>0.00001</td>\n",
       "      <td>True</td>\n",
       "      <td>REGULAR</td>\n",
       "      <td>USD</td>\n",
       "      <td>2024-09-20</td>\n",
       "    </tr>\n",
       "  </tbody>\n",
       "</table>\n",
       "</div>"
      ],
      "text/plain": [
       "        contractSymbol             lastTradeDate  strike  lastPrice     bid  \\\n",
       "0  AAPL240920C00005000 2024-09-16 19:44:25+00:00     5.0     211.64  225.85   \n",
       "\n",
       "     ask  change  percentChange  volume  openInterest  impliedVolatility  \\\n",
       "0  226.9     0.0            0.0   111.0           442            0.00001   \n",
       "\n",
       "   inTheMoney contractSize currency  Expiration  \n",
       "0        True      REGULAR      USD  2024-09-20  "
      ]
     },
     "execution_count": 32,
     "metadata": {},
     "output_type": "execute_result"
    }
   ],
   "source": [
    "options[options['strike']==5].head(1)"
   ]
  },
  {
   "cell_type": "code",
   "execution_count": 48,
   "metadata": {},
   "outputs": [],
   "source": [
    "expiration_dates = []\n",
    "df = options[options['strike']==10]\n",
    "for date in df['Expiration']:\n",
    "    T = (pd.to_datetime(date) - pd.Timestamp.now()).days / 12\n",
    "    expiration_dates.append(T)"
   ]
  },
  {
   "cell_type": "code",
   "execution_count": 49,
   "metadata": {},
   "outputs": [
    {
     "data": {
      "application/vnd.plotly.v1+json": {
       "config": {
        "plotlyServerURL": "https://plot.ly"
       },
       "data": [
        {
         "type": "scatter",
         "x": [
          -0.08333333333333333,
          9.833333333333334,
          68.16666666666667
         ],
         "y": [
          28.31250115234375,
          0.000010000000000000003,
          1.2587927685546876
         ]
        }
       ],
       "layout": {
        "template": {
         "data": {
          "bar": [
           {
            "error_x": {
             "color": "#2a3f5f"
            },
            "error_y": {
             "color": "#2a3f5f"
            },
            "marker": {
             "line": {
              "color": "#E5ECF6",
              "width": 0.5
             },
             "pattern": {
              "fillmode": "overlay",
              "size": 10,
              "solidity": 0.2
             }
            },
            "type": "bar"
           }
          ],
          "barpolar": [
           {
            "marker": {
             "line": {
              "color": "#E5ECF6",
              "width": 0.5
             },
             "pattern": {
              "fillmode": "overlay",
              "size": 10,
              "solidity": 0.2
             }
            },
            "type": "barpolar"
           }
          ],
          "carpet": [
           {
            "aaxis": {
             "endlinecolor": "#2a3f5f",
             "gridcolor": "white",
             "linecolor": "white",
             "minorgridcolor": "white",
             "startlinecolor": "#2a3f5f"
            },
            "baxis": {
             "endlinecolor": "#2a3f5f",
             "gridcolor": "white",
             "linecolor": "white",
             "minorgridcolor": "white",
             "startlinecolor": "#2a3f5f"
            },
            "type": "carpet"
           }
          ],
          "choropleth": [
           {
            "colorbar": {
             "outlinewidth": 0,
             "ticks": ""
            },
            "type": "choropleth"
           }
          ],
          "contour": [
           {
            "colorbar": {
             "outlinewidth": 0,
             "ticks": ""
            },
            "colorscale": [
             [
              0,
              "#0d0887"
             ],
             [
              0.1111111111111111,
              "#46039f"
             ],
             [
              0.2222222222222222,
              "#7201a8"
             ],
             [
              0.3333333333333333,
              "#9c179e"
             ],
             [
              0.4444444444444444,
              "#bd3786"
             ],
             [
              0.5555555555555556,
              "#d8576b"
             ],
             [
              0.6666666666666666,
              "#ed7953"
             ],
             [
              0.7777777777777778,
              "#fb9f3a"
             ],
             [
              0.8888888888888888,
              "#fdca26"
             ],
             [
              1,
              "#f0f921"
             ]
            ],
            "type": "contour"
           }
          ],
          "contourcarpet": [
           {
            "colorbar": {
             "outlinewidth": 0,
             "ticks": ""
            },
            "type": "contourcarpet"
           }
          ],
          "heatmap": [
           {
            "colorbar": {
             "outlinewidth": 0,
             "ticks": ""
            },
            "colorscale": [
             [
              0,
              "#0d0887"
             ],
             [
              0.1111111111111111,
              "#46039f"
             ],
             [
              0.2222222222222222,
              "#7201a8"
             ],
             [
              0.3333333333333333,
              "#9c179e"
             ],
             [
              0.4444444444444444,
              "#bd3786"
             ],
             [
              0.5555555555555556,
              "#d8576b"
             ],
             [
              0.6666666666666666,
              "#ed7953"
             ],
             [
              0.7777777777777778,
              "#fb9f3a"
             ],
             [
              0.8888888888888888,
              "#fdca26"
             ],
             [
              1,
              "#f0f921"
             ]
            ],
            "type": "heatmap"
           }
          ],
          "heatmapgl": [
           {
            "colorbar": {
             "outlinewidth": 0,
             "ticks": ""
            },
            "colorscale": [
             [
              0,
              "#0d0887"
             ],
             [
              0.1111111111111111,
              "#46039f"
             ],
             [
              0.2222222222222222,
              "#7201a8"
             ],
             [
              0.3333333333333333,
              "#9c179e"
             ],
             [
              0.4444444444444444,
              "#bd3786"
             ],
             [
              0.5555555555555556,
              "#d8576b"
             ],
             [
              0.6666666666666666,
              "#ed7953"
             ],
             [
              0.7777777777777778,
              "#fb9f3a"
             ],
             [
              0.8888888888888888,
              "#fdca26"
             ],
             [
              1,
              "#f0f921"
             ]
            ],
            "type": "heatmapgl"
           }
          ],
          "histogram": [
           {
            "marker": {
             "pattern": {
              "fillmode": "overlay",
              "size": 10,
              "solidity": 0.2
             }
            },
            "type": "histogram"
           }
          ],
          "histogram2d": [
           {
            "colorbar": {
             "outlinewidth": 0,
             "ticks": ""
            },
            "colorscale": [
             [
              0,
              "#0d0887"
             ],
             [
              0.1111111111111111,
              "#46039f"
             ],
             [
              0.2222222222222222,
              "#7201a8"
             ],
             [
              0.3333333333333333,
              "#9c179e"
             ],
             [
              0.4444444444444444,
              "#bd3786"
             ],
             [
              0.5555555555555556,
              "#d8576b"
             ],
             [
              0.6666666666666666,
              "#ed7953"
             ],
             [
              0.7777777777777778,
              "#fb9f3a"
             ],
             [
              0.8888888888888888,
              "#fdca26"
             ],
             [
              1,
              "#f0f921"
             ]
            ],
            "type": "histogram2d"
           }
          ],
          "histogram2dcontour": [
           {
            "colorbar": {
             "outlinewidth": 0,
             "ticks": ""
            },
            "colorscale": [
             [
              0,
              "#0d0887"
             ],
             [
              0.1111111111111111,
              "#46039f"
             ],
             [
              0.2222222222222222,
              "#7201a8"
             ],
             [
              0.3333333333333333,
              "#9c179e"
             ],
             [
              0.4444444444444444,
              "#bd3786"
             ],
             [
              0.5555555555555556,
              "#d8576b"
             ],
             [
              0.6666666666666666,
              "#ed7953"
             ],
             [
              0.7777777777777778,
              "#fb9f3a"
             ],
             [
              0.8888888888888888,
              "#fdca26"
             ],
             [
              1,
              "#f0f921"
             ]
            ],
            "type": "histogram2dcontour"
           }
          ],
          "mesh3d": [
           {
            "colorbar": {
             "outlinewidth": 0,
             "ticks": ""
            },
            "type": "mesh3d"
           }
          ],
          "parcoords": [
           {
            "line": {
             "colorbar": {
              "outlinewidth": 0,
              "ticks": ""
             }
            },
            "type": "parcoords"
           }
          ],
          "pie": [
           {
            "automargin": true,
            "type": "pie"
           }
          ],
          "scatter": [
           {
            "fillpattern": {
             "fillmode": "overlay",
             "size": 10,
             "solidity": 0.2
            },
            "type": "scatter"
           }
          ],
          "scatter3d": [
           {
            "line": {
             "colorbar": {
              "outlinewidth": 0,
              "ticks": ""
             }
            },
            "marker": {
             "colorbar": {
              "outlinewidth": 0,
              "ticks": ""
             }
            },
            "type": "scatter3d"
           }
          ],
          "scattercarpet": [
           {
            "marker": {
             "colorbar": {
              "outlinewidth": 0,
              "ticks": ""
             }
            },
            "type": "scattercarpet"
           }
          ],
          "scattergeo": [
           {
            "marker": {
             "colorbar": {
              "outlinewidth": 0,
              "ticks": ""
             }
            },
            "type": "scattergeo"
           }
          ],
          "scattergl": [
           {
            "marker": {
             "colorbar": {
              "outlinewidth": 0,
              "ticks": ""
             }
            },
            "type": "scattergl"
           }
          ],
          "scattermapbox": [
           {
            "marker": {
             "colorbar": {
              "outlinewidth": 0,
              "ticks": ""
             }
            },
            "type": "scattermapbox"
           }
          ],
          "scatterpolar": [
           {
            "marker": {
             "colorbar": {
              "outlinewidth": 0,
              "ticks": ""
             }
            },
            "type": "scatterpolar"
           }
          ],
          "scatterpolargl": [
           {
            "marker": {
             "colorbar": {
              "outlinewidth": 0,
              "ticks": ""
             }
            },
            "type": "scatterpolargl"
           }
          ],
          "scatterternary": [
           {
            "marker": {
             "colorbar": {
              "outlinewidth": 0,
              "ticks": ""
             }
            },
            "type": "scatterternary"
           }
          ],
          "surface": [
           {
            "colorbar": {
             "outlinewidth": 0,
             "ticks": ""
            },
            "colorscale": [
             [
              0,
              "#0d0887"
             ],
             [
              0.1111111111111111,
              "#46039f"
             ],
             [
              0.2222222222222222,
              "#7201a8"
             ],
             [
              0.3333333333333333,
              "#9c179e"
             ],
             [
              0.4444444444444444,
              "#bd3786"
             ],
             [
              0.5555555555555556,
              "#d8576b"
             ],
             [
              0.6666666666666666,
              "#ed7953"
             ],
             [
              0.7777777777777778,
              "#fb9f3a"
             ],
             [
              0.8888888888888888,
              "#fdca26"
             ],
             [
              1,
              "#f0f921"
             ]
            ],
            "type": "surface"
           }
          ],
          "table": [
           {
            "cells": {
             "fill": {
              "color": "#EBF0F8"
             },
             "line": {
              "color": "white"
             }
            },
            "header": {
             "fill": {
              "color": "#C8D4E3"
             },
             "line": {
              "color": "white"
             }
            },
            "type": "table"
           }
          ]
         },
         "layout": {
          "annotationdefaults": {
           "arrowcolor": "#2a3f5f",
           "arrowhead": 0,
           "arrowwidth": 1
          },
          "autotypenumbers": "strict",
          "coloraxis": {
           "colorbar": {
            "outlinewidth": 0,
            "ticks": ""
           }
          },
          "colorscale": {
           "diverging": [
            [
             0,
             "#8e0152"
            ],
            [
             0.1,
             "#c51b7d"
            ],
            [
             0.2,
             "#de77ae"
            ],
            [
             0.3,
             "#f1b6da"
            ],
            [
             0.4,
             "#fde0ef"
            ],
            [
             0.5,
             "#f7f7f7"
            ],
            [
             0.6,
             "#e6f5d0"
            ],
            [
             0.7,
             "#b8e186"
            ],
            [
             0.8,
             "#7fbc41"
            ],
            [
             0.9,
             "#4d9221"
            ],
            [
             1,
             "#276419"
            ]
           ],
           "sequential": [
            [
             0,
             "#0d0887"
            ],
            [
             0.1111111111111111,
             "#46039f"
            ],
            [
             0.2222222222222222,
             "#7201a8"
            ],
            [
             0.3333333333333333,
             "#9c179e"
            ],
            [
             0.4444444444444444,
             "#bd3786"
            ],
            [
             0.5555555555555556,
             "#d8576b"
            ],
            [
             0.6666666666666666,
             "#ed7953"
            ],
            [
             0.7777777777777778,
             "#fb9f3a"
            ],
            [
             0.8888888888888888,
             "#fdca26"
            ],
            [
             1,
             "#f0f921"
            ]
           ],
           "sequentialminus": [
            [
             0,
             "#0d0887"
            ],
            [
             0.1111111111111111,
             "#46039f"
            ],
            [
             0.2222222222222222,
             "#7201a8"
            ],
            [
             0.3333333333333333,
             "#9c179e"
            ],
            [
             0.4444444444444444,
             "#bd3786"
            ],
            [
             0.5555555555555556,
             "#d8576b"
            ],
            [
             0.6666666666666666,
             "#ed7953"
            ],
            [
             0.7777777777777778,
             "#fb9f3a"
            ],
            [
             0.8888888888888888,
             "#fdca26"
            ],
            [
             1,
             "#f0f921"
            ]
           ]
          },
          "colorway": [
           "#636efa",
           "#EF553B",
           "#00cc96",
           "#ab63fa",
           "#FFA15A",
           "#19d3f3",
           "#FF6692",
           "#B6E880",
           "#FF97FF",
           "#FECB52"
          ],
          "font": {
           "color": "#2a3f5f"
          },
          "geo": {
           "bgcolor": "white",
           "lakecolor": "white",
           "landcolor": "#E5ECF6",
           "showlakes": true,
           "showland": true,
           "subunitcolor": "white"
          },
          "hoverlabel": {
           "align": "left"
          },
          "hovermode": "closest",
          "mapbox": {
           "style": "light"
          },
          "paper_bgcolor": "white",
          "plot_bgcolor": "#E5ECF6",
          "polar": {
           "angularaxis": {
            "gridcolor": "white",
            "linecolor": "white",
            "ticks": ""
           },
           "bgcolor": "#E5ECF6",
           "radialaxis": {
            "gridcolor": "white",
            "linecolor": "white",
            "ticks": ""
           }
          },
          "scene": {
           "xaxis": {
            "backgroundcolor": "#E5ECF6",
            "gridcolor": "white",
            "gridwidth": 2,
            "linecolor": "white",
            "showbackground": true,
            "ticks": "",
            "zerolinecolor": "white"
           },
           "yaxis": {
            "backgroundcolor": "#E5ECF6",
            "gridcolor": "white",
            "gridwidth": 2,
            "linecolor": "white",
            "showbackground": true,
            "ticks": "",
            "zerolinecolor": "white"
           },
           "zaxis": {
            "backgroundcolor": "#E5ECF6",
            "gridcolor": "white",
            "gridwidth": 2,
            "linecolor": "white",
            "showbackground": true,
            "ticks": "",
            "zerolinecolor": "white"
           }
          },
          "shapedefaults": {
           "line": {
            "color": "#2a3f5f"
           }
          },
          "ternary": {
           "aaxis": {
            "gridcolor": "white",
            "linecolor": "white",
            "ticks": ""
           },
           "baxis": {
            "gridcolor": "white",
            "linecolor": "white",
            "ticks": ""
           },
           "bgcolor": "#E5ECF6",
           "caxis": {
            "gridcolor": "white",
            "linecolor": "white",
            "ticks": ""
           }
          },
          "title": {
           "x": 0.05
          },
          "xaxis": {
           "automargin": true,
           "gridcolor": "white",
           "linecolor": "white",
           "ticks": "",
           "title": {
            "standoff": 15
           },
           "zerolinecolor": "white",
           "zerolinewidth": 2
          },
          "yaxis": {
           "automargin": true,
           "gridcolor": "white",
           "linecolor": "white",
           "ticks": "",
           "title": {
            "standoff": 15
           },
           "zerolinecolor": "white",
           "zerolinewidth": 2
          }
         }
        }
       }
      }
     },
     "metadata": {},
     "output_type": "display_data"
    }
   ],
   "source": [
    "figure = go.Figure()\n",
    "\n",
    "figure.add_trace(go.Scatter(x=expiration_dates, y=df['impliedVolatility']))"
   ]
  },
  {
   "cell_type": "code",
   "execution_count": 47,
   "metadata": {},
   "outputs": [
    {
     "data": {
      "application/vnd.plotly.v1+json": {
       "config": {
        "plotlyServerURL": "https://plot.ly"
       },
       "data": [
        {
         "type": "scatter",
         "x": [
          5,
          10,
          15,
          20,
          25,
          30,
          35,
          40,
          45,
          50,
          55,
          60,
          65,
          70,
          75,
          80,
          85,
          90,
          95,
          100,
          105,
          110,
          115,
          120,
          125,
          130,
          135,
          140,
          145,
          150,
          155,
          160,
          165,
          170,
          175,
          180,
          185,
          190,
          195,
          197.5,
          200,
          202.5,
          205,
          207.5,
          210,
          212.5,
          215,
          217.5,
          220,
          222.5,
          225,
          227.5,
          230,
          232.5,
          235,
          237.5,
          240,
          242.5,
          245,
          247.5,
          250,
          252.5,
          255,
          260,
          265,
          270,
          275,
          280,
          285,
          290,
          295,
          300,
          305,
          310,
          315,
          320,
          325,
          330,
          335
         ],
         "y": [
          47.29687760986329,
          34.890629548339845,
          30.281250537109376,
          26.007814372558595,
          23.992190002441408,
          21.382815817871094,
          20.171878696289063,
          18.28125428710938,
          17.44141079956055,
          10.625003359375002,
          0.000010000000000000003,
          0.000010000000000000003,
          13.601563999023439,
          0.000010000000000000003,
          12.144533659667967,
          6.0000025,
          10.880862574462892,
          5.375003281249999,
          5.12500359375,
          5.937502578125001,
          5.281253398437499,
          4.968753789062499,
          4.687504140625,
          4.421879472656249,
          3.56250109375,
          3.3750015624999996,
          6.197267878417969,
          3.81250046875,
          3.2031269921874994,
          3.6132822167968754,
          2.3750040624999995,
          2.8593778515625,
          2.9414088964843748,
          2.582034794921875,
          2.4179727050781246,
          2.1953170117187497,
          1.9765626171875001,
          1.71484517578125,
          1.68359533203125,
          1.51172119140625,
          1.37109689453125,
          1.4589870800781248,
          1.2812535937499998,
          1.2402381738281247,
          0.9687503125,
          0.9355475195312499,
          0.7675804492187501,
          0.5800823242187501,
          0.6357458300781251,
          0.6210975390625001,
          0.46289599609375004,
          0.42188078125,
          0.37744763183593744,
          0.379889013671875,
          0.38086556640624997,
          0.38281867187499996,
          0.398443515625,
          0.476567734375,
          0.500005,
          0.5312546875,
          0.5937540625000001,
          0.6562534375000001,
          0.7187528125,
          0.8281267187499999,
          0.937500625,
          1.0625046875000002,
          1.15625421875,
          1.2500037499999999,
          1.3750031249999999,
          1.4375028125,
          1.5625021874999998,
          1.625001875,
          1.75000125,
          1.8125009374999999,
          1.9062504687500001,
          1.96875015625,
          2.0625048437499998,
          2.1250046874999997,
          2.2500043749999996
         ]
        }
       ],
       "layout": {
        "template": {
         "data": {
          "bar": [
           {
            "error_x": {
             "color": "#2a3f5f"
            },
            "error_y": {
             "color": "#2a3f5f"
            },
            "marker": {
             "line": {
              "color": "#E5ECF6",
              "width": 0.5
             },
             "pattern": {
              "fillmode": "overlay",
              "size": 10,
              "solidity": 0.2
             }
            },
            "type": "bar"
           }
          ],
          "barpolar": [
           {
            "marker": {
             "line": {
              "color": "#E5ECF6",
              "width": 0.5
             },
             "pattern": {
              "fillmode": "overlay",
              "size": 10,
              "solidity": 0.2
             }
            },
            "type": "barpolar"
           }
          ],
          "carpet": [
           {
            "aaxis": {
             "endlinecolor": "#2a3f5f",
             "gridcolor": "white",
             "linecolor": "white",
             "minorgridcolor": "white",
             "startlinecolor": "#2a3f5f"
            },
            "baxis": {
             "endlinecolor": "#2a3f5f",
             "gridcolor": "white",
             "linecolor": "white",
             "minorgridcolor": "white",
             "startlinecolor": "#2a3f5f"
            },
            "type": "carpet"
           }
          ],
          "choropleth": [
           {
            "colorbar": {
             "outlinewidth": 0,
             "ticks": ""
            },
            "type": "choropleth"
           }
          ],
          "contour": [
           {
            "colorbar": {
             "outlinewidth": 0,
             "ticks": ""
            },
            "colorscale": [
             [
              0,
              "#0d0887"
             ],
             [
              0.1111111111111111,
              "#46039f"
             ],
             [
              0.2222222222222222,
              "#7201a8"
             ],
             [
              0.3333333333333333,
              "#9c179e"
             ],
             [
              0.4444444444444444,
              "#bd3786"
             ],
             [
              0.5555555555555556,
              "#d8576b"
             ],
             [
              0.6666666666666666,
              "#ed7953"
             ],
             [
              0.7777777777777778,
              "#fb9f3a"
             ],
             [
              0.8888888888888888,
              "#fdca26"
             ],
             [
              1,
              "#f0f921"
             ]
            ],
            "type": "contour"
           }
          ],
          "contourcarpet": [
           {
            "colorbar": {
             "outlinewidth": 0,
             "ticks": ""
            },
            "type": "contourcarpet"
           }
          ],
          "heatmap": [
           {
            "colorbar": {
             "outlinewidth": 0,
             "ticks": ""
            },
            "colorscale": [
             [
              0,
              "#0d0887"
             ],
             [
              0.1111111111111111,
              "#46039f"
             ],
             [
              0.2222222222222222,
              "#7201a8"
             ],
             [
              0.3333333333333333,
              "#9c179e"
             ],
             [
              0.4444444444444444,
              "#bd3786"
             ],
             [
              0.5555555555555556,
              "#d8576b"
             ],
             [
              0.6666666666666666,
              "#ed7953"
             ],
             [
              0.7777777777777778,
              "#fb9f3a"
             ],
             [
              0.8888888888888888,
              "#fdca26"
             ],
             [
              1,
              "#f0f921"
             ]
            ],
            "type": "heatmap"
           }
          ],
          "heatmapgl": [
           {
            "colorbar": {
             "outlinewidth": 0,
             "ticks": ""
            },
            "colorscale": [
             [
              0,
              "#0d0887"
             ],
             [
              0.1111111111111111,
              "#46039f"
             ],
             [
              0.2222222222222222,
              "#7201a8"
             ],
             [
              0.3333333333333333,
              "#9c179e"
             ],
             [
              0.4444444444444444,
              "#bd3786"
             ],
             [
              0.5555555555555556,
              "#d8576b"
             ],
             [
              0.6666666666666666,
              "#ed7953"
             ],
             [
              0.7777777777777778,
              "#fb9f3a"
             ],
             [
              0.8888888888888888,
              "#fdca26"
             ],
             [
              1,
              "#f0f921"
             ]
            ],
            "type": "heatmapgl"
           }
          ],
          "histogram": [
           {
            "marker": {
             "pattern": {
              "fillmode": "overlay",
              "size": 10,
              "solidity": 0.2
             }
            },
            "type": "histogram"
           }
          ],
          "histogram2d": [
           {
            "colorbar": {
             "outlinewidth": 0,
             "ticks": ""
            },
            "colorscale": [
             [
              0,
              "#0d0887"
             ],
             [
              0.1111111111111111,
              "#46039f"
             ],
             [
              0.2222222222222222,
              "#7201a8"
             ],
             [
              0.3333333333333333,
              "#9c179e"
             ],
             [
              0.4444444444444444,
              "#bd3786"
             ],
             [
              0.5555555555555556,
              "#d8576b"
             ],
             [
              0.6666666666666666,
              "#ed7953"
             ],
             [
              0.7777777777777778,
              "#fb9f3a"
             ],
             [
              0.8888888888888888,
              "#fdca26"
             ],
             [
              1,
              "#f0f921"
             ]
            ],
            "type": "histogram2d"
           }
          ],
          "histogram2dcontour": [
           {
            "colorbar": {
             "outlinewidth": 0,
             "ticks": ""
            },
            "colorscale": [
             [
              0,
              "#0d0887"
             ],
             [
              0.1111111111111111,
              "#46039f"
             ],
             [
              0.2222222222222222,
              "#7201a8"
             ],
             [
              0.3333333333333333,
              "#9c179e"
             ],
             [
              0.4444444444444444,
              "#bd3786"
             ],
             [
              0.5555555555555556,
              "#d8576b"
             ],
             [
              0.6666666666666666,
              "#ed7953"
             ],
             [
              0.7777777777777778,
              "#fb9f3a"
             ],
             [
              0.8888888888888888,
              "#fdca26"
             ],
             [
              1,
              "#f0f921"
             ]
            ],
            "type": "histogram2dcontour"
           }
          ],
          "mesh3d": [
           {
            "colorbar": {
             "outlinewidth": 0,
             "ticks": ""
            },
            "type": "mesh3d"
           }
          ],
          "parcoords": [
           {
            "line": {
             "colorbar": {
              "outlinewidth": 0,
              "ticks": ""
             }
            },
            "type": "parcoords"
           }
          ],
          "pie": [
           {
            "automargin": true,
            "type": "pie"
           }
          ],
          "scatter": [
           {
            "fillpattern": {
             "fillmode": "overlay",
             "size": 10,
             "solidity": 0.2
            },
            "type": "scatter"
           }
          ],
          "scatter3d": [
           {
            "line": {
             "colorbar": {
              "outlinewidth": 0,
              "ticks": ""
             }
            },
            "marker": {
             "colorbar": {
              "outlinewidth": 0,
              "ticks": ""
             }
            },
            "type": "scatter3d"
           }
          ],
          "scattercarpet": [
           {
            "marker": {
             "colorbar": {
              "outlinewidth": 0,
              "ticks": ""
             }
            },
            "type": "scattercarpet"
           }
          ],
          "scattergeo": [
           {
            "marker": {
             "colorbar": {
              "outlinewidth": 0,
              "ticks": ""
             }
            },
            "type": "scattergeo"
           }
          ],
          "scattergl": [
           {
            "marker": {
             "colorbar": {
              "outlinewidth": 0,
              "ticks": ""
             }
            },
            "type": "scattergl"
           }
          ],
          "scattermapbox": [
           {
            "marker": {
             "colorbar": {
              "outlinewidth": 0,
              "ticks": ""
             }
            },
            "type": "scattermapbox"
           }
          ],
          "scatterpolar": [
           {
            "marker": {
             "colorbar": {
              "outlinewidth": 0,
              "ticks": ""
             }
            },
            "type": "scatterpolar"
           }
          ],
          "scatterpolargl": [
           {
            "marker": {
             "colorbar": {
              "outlinewidth": 0,
              "ticks": ""
             }
            },
            "type": "scatterpolargl"
           }
          ],
          "scatterternary": [
           {
            "marker": {
             "colorbar": {
              "outlinewidth": 0,
              "ticks": ""
             }
            },
            "type": "scatterternary"
           }
          ],
          "surface": [
           {
            "colorbar": {
             "outlinewidth": 0,
             "ticks": ""
            },
            "colorscale": [
             [
              0,
              "#0d0887"
             ],
             [
              0.1111111111111111,
              "#46039f"
             ],
             [
              0.2222222222222222,
              "#7201a8"
             ],
             [
              0.3333333333333333,
              "#9c179e"
             ],
             [
              0.4444444444444444,
              "#bd3786"
             ],
             [
              0.5555555555555556,
              "#d8576b"
             ],
             [
              0.6666666666666666,
              "#ed7953"
             ],
             [
              0.7777777777777778,
              "#fb9f3a"
             ],
             [
              0.8888888888888888,
              "#fdca26"
             ],
             [
              1,
              "#f0f921"
             ]
            ],
            "type": "surface"
           }
          ],
          "table": [
           {
            "cells": {
             "fill": {
              "color": "#EBF0F8"
             },
             "line": {
              "color": "white"
             }
            },
            "header": {
             "fill": {
              "color": "#C8D4E3"
             },
             "line": {
              "color": "white"
             }
            },
            "type": "table"
           }
          ]
         },
         "layout": {
          "annotationdefaults": {
           "arrowcolor": "#2a3f5f",
           "arrowhead": 0,
           "arrowwidth": 1
          },
          "autotypenumbers": "strict",
          "coloraxis": {
           "colorbar": {
            "outlinewidth": 0,
            "ticks": ""
           }
          },
          "colorscale": {
           "diverging": [
            [
             0,
             "#8e0152"
            ],
            [
             0.1,
             "#c51b7d"
            ],
            [
             0.2,
             "#de77ae"
            ],
            [
             0.3,
             "#f1b6da"
            ],
            [
             0.4,
             "#fde0ef"
            ],
            [
             0.5,
             "#f7f7f7"
            ],
            [
             0.6,
             "#e6f5d0"
            ],
            [
             0.7,
             "#b8e186"
            ],
            [
             0.8,
             "#7fbc41"
            ],
            [
             0.9,
             "#4d9221"
            ],
            [
             1,
             "#276419"
            ]
           ],
           "sequential": [
            [
             0,
             "#0d0887"
            ],
            [
             0.1111111111111111,
             "#46039f"
            ],
            [
             0.2222222222222222,
             "#7201a8"
            ],
            [
             0.3333333333333333,
             "#9c179e"
            ],
            [
             0.4444444444444444,
             "#bd3786"
            ],
            [
             0.5555555555555556,
             "#d8576b"
            ],
            [
             0.6666666666666666,
             "#ed7953"
            ],
            [
             0.7777777777777778,
             "#fb9f3a"
            ],
            [
             0.8888888888888888,
             "#fdca26"
            ],
            [
             1,
             "#f0f921"
            ]
           ],
           "sequentialminus": [
            [
             0,
             "#0d0887"
            ],
            [
             0.1111111111111111,
             "#46039f"
            ],
            [
             0.2222222222222222,
             "#7201a8"
            ],
            [
             0.3333333333333333,
             "#9c179e"
            ],
            [
             0.4444444444444444,
             "#bd3786"
            ],
            [
             0.5555555555555556,
             "#d8576b"
            ],
            [
             0.6666666666666666,
             "#ed7953"
            ],
            [
             0.7777777777777778,
             "#fb9f3a"
            ],
            [
             0.8888888888888888,
             "#fdca26"
            ],
            [
             1,
             "#f0f921"
            ]
           ]
          },
          "colorway": [
           "#636efa",
           "#EF553B",
           "#00cc96",
           "#ab63fa",
           "#FFA15A",
           "#19d3f3",
           "#FF6692",
           "#B6E880",
           "#FF97FF",
           "#FECB52"
          ],
          "font": {
           "color": "#2a3f5f"
          },
          "geo": {
           "bgcolor": "white",
           "lakecolor": "white",
           "landcolor": "#E5ECF6",
           "showlakes": true,
           "showland": true,
           "subunitcolor": "white"
          },
          "hoverlabel": {
           "align": "left"
          },
          "hovermode": "closest",
          "mapbox": {
           "style": "light"
          },
          "paper_bgcolor": "white",
          "plot_bgcolor": "#E5ECF6",
          "polar": {
           "angularaxis": {
            "gridcolor": "white",
            "linecolor": "white",
            "ticks": ""
           },
           "bgcolor": "#E5ECF6",
           "radialaxis": {
            "gridcolor": "white",
            "linecolor": "white",
            "ticks": ""
           }
          },
          "scene": {
           "xaxis": {
            "backgroundcolor": "#E5ECF6",
            "gridcolor": "white",
            "gridwidth": 2,
            "linecolor": "white",
            "showbackground": true,
            "ticks": "",
            "zerolinecolor": "white"
           },
           "yaxis": {
            "backgroundcolor": "#E5ECF6",
            "gridcolor": "white",
            "gridwidth": 2,
            "linecolor": "white",
            "showbackground": true,
            "ticks": "",
            "zerolinecolor": "white"
           },
           "zaxis": {
            "backgroundcolor": "#E5ECF6",
            "gridcolor": "white",
            "gridwidth": 2,
            "linecolor": "white",
            "showbackground": true,
            "ticks": "",
            "zerolinecolor": "white"
           }
          },
          "shapedefaults": {
           "line": {
            "color": "#2a3f5f"
           }
          },
          "ternary": {
           "aaxis": {
            "gridcolor": "white",
            "linecolor": "white",
            "ticks": ""
           },
           "baxis": {
            "gridcolor": "white",
            "linecolor": "white",
            "ticks": ""
           },
           "bgcolor": "#E5ECF6",
           "caxis": {
            "gridcolor": "white",
            "linecolor": "white",
            "ticks": ""
           }
          },
          "title": {
           "x": 0.05
          },
          "xaxis": {
           "automargin": true,
           "gridcolor": "white",
           "linecolor": "white",
           "ticks": "",
           "title": {
            "standoff": 15
           },
           "zerolinecolor": "white",
           "zerolinewidth": 2
          },
          "yaxis": {
           "automargin": true,
           "gridcolor": "white",
           "linecolor": "white",
           "ticks": "",
           "title": {
            "standoff": 15
           },
           "zerolinecolor": "white",
           "zerolinewidth": 2
          }
         }
        }
       }
      }
     },
     "metadata": {},
     "output_type": "display_data"
    }
   ],
   "source": [
    "figure = go.Figure()\n",
    "figure.add_trace(go.Scatter(x=options_chain.calls['strike'], y=options_chain.calls['impliedVolatility']))\n",
    "figure.show()"
   ]
  },
  {
   "cell_type": "code",
   "execution_count": 17,
   "metadata": {},
   "outputs": [
    {
     "data": {
      "text/html": [
       "<div>\n",
       "<style scoped>\n",
       "    .dataframe tbody tr th:only-of-type {\n",
       "        vertical-align: middle;\n",
       "    }\n",
       "\n",
       "    .dataframe tbody tr th {\n",
       "        vertical-align: top;\n",
       "    }\n",
       "\n",
       "    .dataframe thead th {\n",
       "        text-align: right;\n",
       "    }\n",
       "</style>\n",
       "<table border=\"1\" class=\"dataframe\">\n",
       "  <thead>\n",
       "    <tr style=\"text-align: right;\">\n",
       "      <th></th>\n",
       "      <th>contractSymbol</th>\n",
       "      <th>lastTradeDate</th>\n",
       "      <th>strike</th>\n",
       "      <th>lastPrice</th>\n",
       "      <th>bid</th>\n",
       "      <th>ask</th>\n",
       "      <th>change</th>\n",
       "      <th>percentChange</th>\n",
       "      <th>volume</th>\n",
       "      <th>openInterest</th>\n",
       "      <th>impliedVolatility</th>\n",
       "      <th>inTheMoney</th>\n",
       "      <th>contractSize</th>\n",
       "      <th>currency</th>\n",
       "    </tr>\n",
       "  </thead>\n",
       "  <tbody>\n",
       "    <tr>\n",
       "      <th>68</th>\n",
       "      <td>AAPL240920P00290000</td>\n",
       "      <td>2024-08-01 15:24:02+00:00</td>\n",
       "      <td>290.0</td>\n",
       "      <td>69.84</td>\n",
       "      <td>60.75</td>\n",
       "      <td>61.50</td>\n",
       "      <td>0.0</td>\n",
       "      <td>0.0</td>\n",
       "      <td>3.0</td>\n",
       "      <td>0.0</td>\n",
       "      <td>2.398442</td>\n",
       "      <td>True</td>\n",
       "      <td>REGULAR</td>\n",
       "      <td>USD</td>\n",
       "    </tr>\n",
       "    <tr>\n",
       "      <th>69</th>\n",
       "      <td>AAPL240920P00300000</td>\n",
       "      <td>2024-08-26 19:43:43+00:00</td>\n",
       "      <td>300.0</td>\n",
       "      <td>73.40</td>\n",
       "      <td>70.25</td>\n",
       "      <td>72.10</td>\n",
       "      <td>0.0</td>\n",
       "      <td>0.0</td>\n",
       "      <td>1.0</td>\n",
       "      <td>0.0</td>\n",
       "      <td>2.015630</td>\n",
       "      <td>True</td>\n",
       "      <td>REGULAR</td>\n",
       "      <td>USD</td>\n",
       "    </tr>\n",
       "    <tr>\n",
       "      <th>70</th>\n",
       "      <td>AAPL240920P00310000</td>\n",
       "      <td>2024-03-26 19:25:52+00:00</td>\n",
       "      <td>310.0</td>\n",
       "      <td>139.40</td>\n",
       "      <td>139.55</td>\n",
       "      <td>140.60</td>\n",
       "      <td>0.0</td>\n",
       "      <td>0.0</td>\n",
       "      <td>1.0</td>\n",
       "      <td>0.0</td>\n",
       "      <td>17.418462</td>\n",
       "      <td>True</td>\n",
       "      <td>REGULAR</td>\n",
       "      <td>USD</td>\n",
       "    </tr>\n",
       "    <tr>\n",
       "      <th>71</th>\n",
       "      <td>AAPL240920P00315000</td>\n",
       "      <td>2024-08-02 14:43:50+00:00</td>\n",
       "      <td>315.0</td>\n",
       "      <td>92.05</td>\n",
       "      <td>85.80</td>\n",
       "      <td>86.50</td>\n",
       "      <td>0.0</td>\n",
       "      <td>0.0</td>\n",
       "      <td>1.0</td>\n",
       "      <td>0.0</td>\n",
       "      <td>2.156255</td>\n",
       "      <td>True</td>\n",
       "      <td>REGULAR</td>\n",
       "      <td>USD</td>\n",
       "    </tr>\n",
       "    <tr>\n",
       "      <th>72</th>\n",
       "      <td>AAPL240920P00325000</td>\n",
       "      <td>2024-09-10 19:54:50+00:00</td>\n",
       "      <td>325.0</td>\n",
       "      <td>104.70</td>\n",
       "      <td>95.05</td>\n",
       "      <td>97.15</td>\n",
       "      <td>0.0</td>\n",
       "      <td>0.0</td>\n",
       "      <td>NaN</td>\n",
       "      <td>NaN</td>\n",
       "      <td>3.937500</td>\n",
       "      <td>True</td>\n",
       "      <td>REGULAR</td>\n",
       "      <td>USD</td>\n",
       "    </tr>\n",
       "  </tbody>\n",
       "</table>\n",
       "</div>"
      ],
      "text/plain": [
       "         contractSymbol             lastTradeDate  strike  lastPrice     bid  \\\n",
       "68  AAPL240920P00290000 2024-08-01 15:24:02+00:00   290.0      69.84   60.75   \n",
       "69  AAPL240920P00300000 2024-08-26 19:43:43+00:00   300.0      73.40   70.25   \n",
       "70  AAPL240920P00310000 2024-03-26 19:25:52+00:00   310.0     139.40  139.55   \n",
       "71  AAPL240920P00315000 2024-08-02 14:43:50+00:00   315.0      92.05   85.80   \n",
       "72  AAPL240920P00325000 2024-09-10 19:54:50+00:00   325.0     104.70   95.05   \n",
       "\n",
       "       ask  change  percentChange  volume  openInterest  impliedVolatility  \\\n",
       "68   61.50     0.0            0.0     3.0           0.0           2.398442   \n",
       "69   72.10     0.0            0.0     1.0           0.0           2.015630   \n",
       "70  140.60     0.0            0.0     1.0           0.0          17.418462   \n",
       "71   86.50     0.0            0.0     1.0           0.0           2.156255   \n",
       "72   97.15     0.0            0.0     NaN           NaN           3.937500   \n",
       "\n",
       "    inTheMoney contractSize currency  \n",
       "68        True      REGULAR      USD  \n",
       "69        True      REGULAR      USD  \n",
       "70        True      REGULAR      USD  \n",
       "71        True      REGULAR      USD  \n",
       "72        True      REGULAR      USD  "
      ]
     },
     "execution_count": 17,
     "metadata": {},
     "output_type": "execute_result"
    }
   ],
   "source": [
    "options_chain.puts.tail()"
   ]
  }
 ],
 "metadata": {
  "kernelspec": {
   "display_name": "Python 3",
   "language": "python",
   "name": "python3"
  },
  "language_info": {
   "codemirror_mode": {
    "name": "ipython",
    "version": 3
   },
   "file_extension": ".py",
   "mimetype": "text/x-python",
   "name": "python",
   "nbconvert_exporter": "python",
   "pygments_lexer": "ipython3",
   "version": "3.12.3"
  }
 },
 "nbformat": 4,
 "nbformat_minor": 2
}
